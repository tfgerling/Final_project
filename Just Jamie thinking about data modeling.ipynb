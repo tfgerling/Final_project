{
 "cells": [
  {
   "cell_type": "code",
   "execution_count": 2,
   "id": "2a5f73a6",
   "metadata": {},
   "outputs": [],
   "source": [
    "#Initial Setup\n",
    "import seaborn as sns\n",
    "import pandas as pd\n",
    "import numpy as np\n",
    "import seaborn as sns\n",
    "import matplotlib.pyplot as plt\n",
    "from sklearn.preprocessing import StandardScaler\n",
    "from sklearn.neighbors import KNeighborsClassifier\n",
    "from sklearn.model_selection import train_test_split\n",
    "from sklearn.decomposition import PCA\n",
    "from sklearn.preprocessing import MinMaxScaler\n",
    "from sklearn.tree import DecisionTreeClassifier\n",
    "from imblearn.combine import SMOTEENN\n",
    "from sklearn.ensemble import RandomForestClassifier\n",
    "from sklearn.metrics import mean_squared_error as MSE\n",
    "from time import process_time"
   ]
  },
  {
   "cell_type": "code",
   "execution_count": 3,
   "id": "f6f2312e",
   "metadata": {},
   "outputs": [],
   "source": [
    "# Scatter and density plots\n",
    "def plotScatterMatrix(df, plotSize, textSize):\n",
    "    df = df.select_dtypes(include =[np.number])# keep only numerical columns\n",
    "    # Remove rows and columns that would lead to df being singular\n",
    "    df = df.dropna()\n",
    "    df = df[[col for col in df if df[col].nunique() > 1]] # keep columns where there are more than 1 unique values\n",
    "    columnNames = list(df)\n",
    "    if len(columnNames) > 10: # reduce the number of columns for matrix inversion of kernel density plots\n",
    "        columnNames = columnNames[:10]\n",
    "    df = df[columnNames]\n",
    "    ax = pd.plotting.scatter_matrix(df, alpha=0.75, figsize=[plotSize, plotSize], diagonal='kde')\n",
    "    corrs = df.corr().values\n",
    "    for i, j in zip(*plt.np.triu_indices_from(ax, k = 1)):\n",
    "        ax[i, j].annotate('Corr. coef = %.3f' % corrs[i, j], (0.8, 0.2), xycoords='axes fraction', ha='center', va='center', size=textSize)\n",
    "    plt.suptitle('Scatter and Density Plot')\n",
    "    plt.show()"
   ]
  },
  {
   "cell_type": "code",
   "execution_count": 4,
   "id": "a3cb5f89",
   "metadata": {},
   "outputs": [
    {
     "data": {
      "text/html": [
       "<div>\n",
       "<style scoped>\n",
       "    .dataframe tbody tr th:only-of-type {\n",
       "        vertical-align: middle;\n",
       "    }\n",
       "\n",
       "    .dataframe tbody tr th {\n",
       "        vertical-align: top;\n",
       "    }\n",
       "\n",
       "    .dataframe thead th {\n",
       "        text-align: right;\n",
       "    }\n",
       "</style>\n",
       "<table border=\"1\" class=\"dataframe\">\n",
       "  <thead>\n",
       "    <tr style=\"text-align: right;\">\n",
       "      <th></th>\n",
       "      <th>Q24E</th>\n",
       "      <th>Q25A</th>\n",
       "      <th>Q25I</th>\n",
       "      <th>Q25E</th>\n",
       "      <th>Q26A</th>\n",
       "      <th>Q26I</th>\n",
       "      <th>Q26E</th>\n",
       "      <th>Q27A</th>\n",
       "      <th>Q27I</th>\n",
       "      <th>Q27E</th>\n",
       "      <th>...</th>\n",
       "      <th>major</th>\n",
       "      <th>Depression</th>\n",
       "      <th>Depression_cat</th>\n",
       "      <th>Anxiety</th>\n",
       "      <th>Anxiety_cat</th>\n",
       "      <th>Stress</th>\n",
       "      <th>Stress_cat</th>\n",
       "      <th>dep_cond</th>\n",
       "      <th>anx_cond</th>\n",
       "      <th>str_cond</th>\n",
       "    </tr>\n",
       "  </thead>\n",
       "  <tbody>\n",
       "    <tr>\n",
       "      <th>0</th>\n",
       "      <td>2444</td>\n",
       "      <td>4</td>\n",
       "      <td>1</td>\n",
       "      <td>9880</td>\n",
       "      <td>4</td>\n",
       "      <td>2</td>\n",
       "      <td>4695</td>\n",
       "      <td>4</td>\n",
       "      <td>5</td>\n",
       "      <td>1677</td>\n",
       "      <td>...</td>\n",
       "      <td>No Degree</td>\n",
       "      <td>27</td>\n",
       "      <td>3</td>\n",
       "      <td>34</td>\n",
       "      <td>4</td>\n",
       "      <td>40</td>\n",
       "      <td>4</td>\n",
       "      <td>3 Severe</td>\n",
       "      <td>4 Extremely Severe</td>\n",
       "      <td>4 Extremely Severe</td>\n",
       "    </tr>\n",
       "    <tr>\n",
       "      <th>1</th>\n",
       "      <td>2670</td>\n",
       "      <td>2</td>\n",
       "      <td>7</td>\n",
       "      <td>7649</td>\n",
       "      <td>3</td>\n",
       "      <td>11</td>\n",
       "      <td>2537</td>\n",
       "      <td>3</td>\n",
       "      <td>5</td>\n",
       "      <td>2907</td>\n",
       "      <td>...</td>\n",
       "      <td>No Degree</td>\n",
       "      <td>24</td>\n",
       "      <td>3</td>\n",
       "      <td>17</td>\n",
       "      <td>3</td>\n",
       "      <td>27</td>\n",
       "      <td>3</td>\n",
       "      <td>3 Severe</td>\n",
       "      <td>3 Severe</td>\n",
       "      <td>3 Severe</td>\n",
       "    </tr>\n",
       "    <tr>\n",
       "      <th>2</th>\n",
       "      <td>8834</td>\n",
       "      <td>2</td>\n",
       "      <td>29</td>\n",
       "      <td>7358</td>\n",
       "      <td>1</td>\n",
       "      <td>30</td>\n",
       "      <td>4928</td>\n",
       "      <td>2</td>\n",
       "      <td>15</td>\n",
       "      <td>3036</td>\n",
       "      <td>...</td>\n",
       "      <td>No Degree</td>\n",
       "      <td>39</td>\n",
       "      <td>4</td>\n",
       "      <td>12</td>\n",
       "      <td>2</td>\n",
       "      <td>17</td>\n",
       "      <td>1</td>\n",
       "      <td>4 Extremely Severe</td>\n",
       "      <td>2 Moderate</td>\n",
       "      <td>1 Mild</td>\n",
       "    </tr>\n",
       "    <tr>\n",
       "      <th>3</th>\n",
       "      <td>5630</td>\n",
       "      <td>1</td>\n",
       "      <td>18</td>\n",
       "      <td>30631</td>\n",
       "      <td>2</td>\n",
       "      <td>24</td>\n",
       "      <td>9870</td>\n",
       "      <td>4</td>\n",
       "      <td>4</td>\n",
       "      <td>2411</td>\n",
       "      <td>...</td>\n",
       "      <td>Biology</td>\n",
       "      <td>16</td>\n",
       "      <td>2</td>\n",
       "      <td>17</td>\n",
       "      <td>3</td>\n",
       "      <td>16</td>\n",
       "      <td>1</td>\n",
       "      <td>2 Moderate</td>\n",
       "      <td>3 Severe</td>\n",
       "      <td>1 Mild</td>\n",
       "    </tr>\n",
       "    <tr>\n",
       "      <th>4</th>\n",
       "      <td>4047</td>\n",
       "      <td>4</td>\n",
       "      <td>31</td>\n",
       "      <td>3787</td>\n",
       "      <td>4</td>\n",
       "      <td>42</td>\n",
       "      <td>2102</td>\n",
       "      <td>2</td>\n",
       "      <td>1</td>\n",
       "      <td>12351</td>\n",
       "      <td>...</td>\n",
       "      <td>Psychology</td>\n",
       "      <td>32</td>\n",
       "      <td>4</td>\n",
       "      <td>40</td>\n",
       "      <td>4</td>\n",
       "      <td>29</td>\n",
       "      <td>3</td>\n",
       "      <td>4 Extremely Severe</td>\n",
       "      <td>4 Extremely Severe</td>\n",
       "      <td>3 Severe</td>\n",
       "    </tr>\n",
       "  </tbody>\n",
       "</table>\n",
       "<p>5 rows × 110 columns</p>\n",
       "</div>"
      ],
      "text/plain": [
       "   Q24E  Q25A  Q25I   Q25E  Q26A  Q26I  Q26E  Q27A  Q27I   Q27E  ...  \\\n",
       "0  2444     4     1   9880     4     2  4695     4     5   1677  ...   \n",
       "1  2670     2     7   7649     3    11  2537     3     5   2907  ...   \n",
       "2  8834     2    29   7358     1    30  4928     2    15   3036  ...   \n",
       "3  5630     1    18  30631     2    24  9870     4     4   2411  ...   \n",
       "4  4047     4    31   3787     4    42  2102     2     1  12351  ...   \n",
       "\n",
       "        major  Depression  Depression_cat  Anxiety  Anxiety_cat  Stress  \\\n",
       "0   No Degree          27               3       34            4      40   \n",
       "1   No Degree          24               3       17            3      27   \n",
       "2   No Degree          39               4       12            2      17   \n",
       "3     Biology          16               2       17            3      16   \n",
       "4  Psychology          32               4       40            4      29   \n",
       "\n",
       "   Stress_cat            dep_cond            anx_cond            str_cond  \n",
       "0           4            3 Severe  4 Extremely Severe  4 Extremely Severe  \n",
       "1           3            3 Severe            3 Severe            3 Severe  \n",
       "2           1  4 Extremely Severe          2 Moderate              1 Mild  \n",
       "3           1          2 Moderate            3 Severe              1 Mild  \n",
       "4           3  4 Extremely Severe  4 Extremely Severe            3 Severe  \n",
       "\n",
       "[5 rows x 110 columns]"
      ]
     },
     "execution_count": 4,
     "metadata": {},
     "output_type": "execute_result"
    }
   ],
   "source": [
    "df = pd.read_csv('dass.csv')\n",
    "df.head()"
   ]
  },
  {
   "cell_type": "code",
   "execution_count": 4,
   "id": "bc577c4a",
   "metadata": {},
   "outputs": [
    {
     "data": {
      "text/plain": [
       "int64     176\n",
       "object      2\n",
       "dtype: int64"
      ]
     },
     "execution_count": 4,
     "metadata": {},
     "output_type": "execute_result"
    }
   ],
   "source": [
    "df.dtypes.value_counts()"
   ]
  },
  {
   "cell_type": "code",
   "execution_count": 5,
   "id": "5a1d6725",
   "metadata": {},
   "outputs": [
    {
     "data": {
      "text/html": [
       "<div>\n",
       "<style scoped>\n",
       "    .dataframe tbody tr th:only-of-type {\n",
       "        vertical-align: middle;\n",
       "    }\n",
       "\n",
       "    .dataframe tbody tr th {\n",
       "        vertical-align: top;\n",
       "    }\n",
       "\n",
       "    .dataframe thead th {\n",
       "        text-align: right;\n",
       "    }\n",
       "</style>\n",
       "<table border=\"1\" class=\"dataframe\">\n",
       "  <thead>\n",
       "    <tr style=\"text-align: right;\">\n",
       "      <th></th>\n",
       "      <th>Q1A</th>\n",
       "      <th>Q1I</th>\n",
       "      <th>Q1E</th>\n",
       "      <th>Q2A</th>\n",
       "      <th>Q2I</th>\n",
       "      <th>Q2E</th>\n",
       "      <th>Q3A</th>\n",
       "      <th>Q3I</th>\n",
       "      <th>Q3E</th>\n",
       "      <th>Q4A</th>\n",
       "      <th>...</th>\n",
       "      <th>voted</th>\n",
       "      <th>married</th>\n",
       "      <th>familysize</th>\n",
       "      <th>major</th>\n",
       "      <th>Depression</th>\n",
       "      <th>Depression_cat</th>\n",
       "      <th>Anxiety</th>\n",
       "      <th>Anxiety_cat</th>\n",
       "      <th>Stress</th>\n",
       "      <th>Stress_cat</th>\n",
       "    </tr>\n",
       "  </thead>\n",
       "  <tbody>\n",
       "    <tr>\n",
       "      <th>0</th>\n",
       "      <td>4</td>\n",
       "      <td>28</td>\n",
       "      <td>3890</td>\n",
       "      <td>4</td>\n",
       "      <td>25</td>\n",
       "      <td>2122</td>\n",
       "      <td>2</td>\n",
       "      <td>16</td>\n",
       "      <td>1944</td>\n",
       "      <td>4</td>\n",
       "      <td>...</td>\n",
       "      <td>2</td>\n",
       "      <td>1</td>\n",
       "      <td>2</td>\n",
       "      <td>46</td>\n",
       "      <td>27</td>\n",
       "      <td>3</td>\n",
       "      <td>34</td>\n",
       "      <td>4</td>\n",
       "      <td>40</td>\n",
       "      <td>4</td>\n",
       "    </tr>\n",
       "    <tr>\n",
       "      <th>1</th>\n",
       "      <td>4</td>\n",
       "      <td>2</td>\n",
       "      <td>8118</td>\n",
       "      <td>1</td>\n",
       "      <td>36</td>\n",
       "      <td>2890</td>\n",
       "      <td>2</td>\n",
       "      <td>35</td>\n",
       "      <td>4777</td>\n",
       "      <td>3</td>\n",
       "      <td>...</td>\n",
       "      <td>2</td>\n",
       "      <td>1</td>\n",
       "      <td>4</td>\n",
       "      <td>46</td>\n",
       "      <td>24</td>\n",
       "      <td>3</td>\n",
       "      <td>17</td>\n",
       "      <td>3</td>\n",
       "      <td>27</td>\n",
       "      <td>3</td>\n",
       "    </tr>\n",
       "    <tr>\n",
       "      <th>2</th>\n",
       "      <td>3</td>\n",
       "      <td>7</td>\n",
       "      <td>5784</td>\n",
       "      <td>1</td>\n",
       "      <td>33</td>\n",
       "      <td>4373</td>\n",
       "      <td>4</td>\n",
       "      <td>41</td>\n",
       "      <td>3242</td>\n",
       "      <td>1</td>\n",
       "      <td>...</td>\n",
       "      <td>1</td>\n",
       "      <td>1</td>\n",
       "      <td>3</td>\n",
       "      <td>46</td>\n",
       "      <td>39</td>\n",
       "      <td>4</td>\n",
       "      <td>12</td>\n",
       "      <td>2</td>\n",
       "      <td>17</td>\n",
       "      <td>1</td>\n",
       "    </tr>\n",
       "    <tr>\n",
       "      <th>3</th>\n",
       "      <td>2</td>\n",
       "      <td>23</td>\n",
       "      <td>5081</td>\n",
       "      <td>3</td>\n",
       "      <td>11</td>\n",
       "      <td>6837</td>\n",
       "      <td>2</td>\n",
       "      <td>37</td>\n",
       "      <td>5521</td>\n",
       "      <td>1</td>\n",
       "      <td>...</td>\n",
       "      <td>2</td>\n",
       "      <td>1</td>\n",
       "      <td>5</td>\n",
       "      <td>10</td>\n",
       "      <td>16</td>\n",
       "      <td>2</td>\n",
       "      <td>17</td>\n",
       "      <td>3</td>\n",
       "      <td>16</td>\n",
       "      <td>1</td>\n",
       "    </tr>\n",
       "    <tr>\n",
       "      <th>4</th>\n",
       "      <td>2</td>\n",
       "      <td>36</td>\n",
       "      <td>3215</td>\n",
       "      <td>2</td>\n",
       "      <td>13</td>\n",
       "      <td>7731</td>\n",
       "      <td>3</td>\n",
       "      <td>5</td>\n",
       "      <td>4156</td>\n",
       "      <td>4</td>\n",
       "      <td>...</td>\n",
       "      <td>2</td>\n",
       "      <td>1</td>\n",
       "      <td>4</td>\n",
       "      <td>56</td>\n",
       "      <td>32</td>\n",
       "      <td>4</td>\n",
       "      <td>40</td>\n",
       "      <td>4</td>\n",
       "      <td>29</td>\n",
       "      <td>3</td>\n",
       "    </tr>\n",
       "  </tbody>\n",
       "</table>\n",
       "<p>5 rows × 178 columns</p>\n",
       "</div>"
      ],
      "text/plain": [
       "   Q1A  Q1I   Q1E  Q2A  Q2I   Q2E  Q3A  Q3I   Q3E  Q4A  ...  voted  married  \\\n",
       "0    4   28  3890    4   25  2122    2   16  1944    4  ...      2        1   \n",
       "1    4    2  8118    1   36  2890    2   35  4777    3  ...      2        1   \n",
       "2    3    7  5784    1   33  4373    4   41  3242    1  ...      1        1   \n",
       "3    2   23  5081    3   11  6837    2   37  5521    1  ...      2        1   \n",
       "4    2   36  3215    2   13  7731    3    5  4156    4  ...      2        1   \n",
       "\n",
       "   familysize  major  Depression  Depression_cat  Anxiety  Anxiety_cat  \\\n",
       "0           2     46          27               3       34            4   \n",
       "1           4     46          24               3       17            3   \n",
       "2           3     46          39               4       12            2   \n",
       "3           5     10          16               2       17            3   \n",
       "4           4     56          32               4       40            4   \n",
       "\n",
       "   Stress  Stress_cat  \n",
       "0      40           4  \n",
       "1      27           3  \n",
       "2      17           1  \n",
       "3      16           1  \n",
       "4      29           3  \n",
       "\n",
       "[5 rows x 178 columns]"
      ]
     },
     "execution_count": 5,
     "metadata": {},
     "output_type": "execute_result"
    }
   ],
   "source": [
    "df['country']=pd.factorize(df['country'], sort=True)[0]+1\n",
    "df['major']=pd.factorize(df['major'], sort=True)[0]+1\n",
    "df.head()"
   ]
  },
  {
   "cell_type": "code",
   "execution_count": 6,
   "id": "e58bc941",
   "metadata": {},
   "outputs": [
    {
     "data": {
      "text/plain": [
       "int64    178\n",
       "dtype: int64"
      ]
     },
     "execution_count": 6,
     "metadata": {},
     "output_type": "execute_result"
    }
   ],
   "source": [
    "df.dtypes.value_counts()"
   ]
  },
  {
   "cell_type": "code",
   "execution_count": 7,
   "id": "7ad733ff",
   "metadata": {},
   "outputs": [
    {
     "data": {
      "text/plain": [
       "0        1\n",
       "1        1\n",
       "2        1\n",
       "3        0\n",
       "4        1\n",
       "        ..\n",
       "39732    1\n",
       "39733    1\n",
       "39734    0\n",
       "39735    0\n",
       "39736    1\n",
       "Name: Depression_cat, Length: 39737, dtype: int64"
      ]
     },
     "execution_count": 7,
     "metadata": {},
     "output_type": "execute_result"
    }
   ],
   "source": [
    "# Target variable will determine severe depression. Levels 3 or 4 indicates severe depression.  So 1 means the individual has \n",
    "# severe depression, while 0 means they do not.\n",
    "\n",
    "for i in range(len(df)):\n",
    "    if df['Depression_cat'][i] == 3 or df['Depression_cat'][i] == 4:\n",
    "        df['Depression_cat'][i] = 1\n",
    "    else:\n",
    "        df['Depression_cat'][i] = 0\n",
    "        \n",
    "df['Depression_cat']"
   ]
  },
  {
   "cell_type": "code",
   "execution_count": 8,
   "id": "13b4dd91",
   "metadata": {},
   "outputs": [],
   "source": [
    "scaler = MinMaxScaler()\n",
    "df_rescaled = scaler.fit_transform(df)"
   ]
  },
  {
   "cell_type": "code",
   "execution_count": 9,
   "id": "8faa7aff",
   "metadata": {},
   "outputs": [
    {
     "data": {
      "text/plain": [
       "105"
      ]
     },
     "execution_count": 9,
     "metadata": {},
     "output_type": "execute_result"
    }
   ],
   "source": [
    "# 95% of variance\n",
    "pca = PCA(n_components = 0.95)\n",
    "pca.fit(df_rescaled)\n",
    "reduced_ninety_five = pca.transform(df_rescaled)\n",
    "no_comp = reduced_ninety_five.shape[1]\n",
    "no_comp"
   ]
  },
  {
   "cell_type": "markdown",
   "id": "8215deef",
   "metadata": {},
   "source": [
    "This shows that 105 components will be sufficient to capture 95% of the variance."
   ]
  },
  {
   "cell_type": "code",
   "execution_count": 10,
   "id": "0e81133c",
   "metadata": {},
   "outputs": [
    {
     "data": {
      "image/png": "[encoded data removed]",
      "text/plain": [
       "<Figure size 864x432 with 1 Axes>"
      ]
     },
     "metadata": {
      "needs_background": "light"
     },
     "output_type": "display_data"
    }
   ],
   "source": [
    "# Visualizing the PCA determination of number of components\n",
    "\n",
    "pca = PCA().fit(df_rescaled)\n",
    "\n",
    "plt.rcParams[\"figure.figsize\"] = (12,6)\n",
    "\n",
    "fig, ax = plt.subplots()\n",
    "xi = np.arange(1, 179, step=1)\n",
    "y = np.cumsum(pca.explained_variance_ratio_)\n",
    "\n",
    "plt.ylim(0.0,1.1)\n",
    "plt.plot(xi, y, marker='o', linestyle='--', color='b')\n",
    "\n",
    "plt.xlabel('Number of Components')\n",
    "plt.xticks(np.arange(1, 179, step=1), rotation=90) #change from 0-based array index to 1-based human-readable label\n",
    "plt.ylabel('Cumulative variance (%)')\n",
    "plt.title('The number of components needed to explain variance')\n",
    "\n",
    "plt.axhline(y=0.95, color='r', linestyle='-')\n",
    "plt.text(0.5, 0.85, '95% cut-off threshold', color = 'red', fontsize=16)\n",
    "\n",
    "ax.grid(axis='x')\n",
    "plt.show()"
   ]
  },
  {
   "cell_type": "code",
   "execution_count": 11,
   "id": "7ba3c0c9",
   "metadata": {},
   "outputs": [
    {
     "data": {
      "text/plain": [
       "1    20039\n",
       "0    19698\n",
       "Name: Depression_cat, dtype: int64"
      ]
     },
     "execution_count": 11,
     "metadata": {},
     "output_type": "execute_result"
    }
   ],
   "source": [
    "# Slice feature columns from dataframe for X\n",
    "X = df.iloc[:,:172]\n",
    "\n",
    "# Three different output columns to examine\n",
    "y = df['Depression_cat']\n",
    "\n",
    "# Check balance of dataset\n",
    "y.value_counts()"
   ]
  },
  {
   "cell_type": "markdown",
   "id": "a15c4e52",
   "metadata": {},
   "source": [
    "The data looks very well-balanced, so I may not need to perform SMOTE-ENN after all.  To be thorough, I'll examine the value counts before and after SMOTE-ENN."
   ]
  },
  {
   "cell_type": "code",
   "execution_count": 12,
   "id": "3704b2f7",
   "metadata": {},
   "outputs": [
    {
     "name": "stdout",
     "output_type": "stream",
     "text": [
      "1    3763\n",
      "0    2716\n",
      "Name: Depression_cat, dtype: int64\n"
     ]
    }
   ],
   "source": [
    "# Perform SMOTE-ENN on the dataset\n",
    "resample=SMOTEENN(random_state=42)\n",
    "\n",
    "X_res, y_res = resample.fit_resample(X,y)\n",
    "\n",
    "print(y_res.value_counts())"
   ]
  },
  {
   "cell_type": "markdown",
   "id": "bea65691",
   "metadata": {},
   "source": [
    "The balance of the data appears to be worse after SMOTE-ENN.  Nevertheless, my plan is to compare the performance on the model for both pre-SMOTE-ENN and post-SMOTE-ENN data."
   ]
  },
  {
   "cell_type": "code",
   "execution_count": 13,
   "id": "1f2da354",
   "metadata": {},
   "outputs": [],
   "source": [
    "# Create a training and test sets for pre-SMOTE-ENN data to examine DEPRESSION\n",
    "X_train, X_test, y_train, y_test = train_test_split(X, y, test_size=0.3, random_state=42)\n",
    "\n",
    "# Apply scaling\n",
    "scaler = StandardScaler()\n",
    "X_train_scaled = scaler.fit_transform(X_train)\n",
    "X_test_scaled = scaler.transform(X_test)"
   ]
  },
  {
   "cell_type": "code",
   "execution_count": null,
   "id": "5b577c21",
   "metadata": {},
   "outputs": [],
   "source": [
    "# Apply Principal Component Analysis\n",
    "pca = PCA(n_components = no_comp)\n",
    "X_train = pca.fit_transform(X_train)\n",
    "X_test = pca.transform(X_test)\n"
   ]
  },
  {
   "cell_type": "code",
   "execution_count": 24,
   "id": "f3433cf3",
   "metadata": {},
   "outputs": [
    {
     "name": "stdout",
     "output_type": "stream",
     "text": [
      "    Attribute  Importance\n",
      "111      Q38A    0.547588\n",
      "69       Q24A    0.119445\n",
      "99       Q34A    0.069032\n",
      "123      Q42A    0.030150\n",
      "27       Q10A    0.019286\n",
      "..        ...         ...\n",
      "24        Q9A    0.000000\n",
      "28       Q10I    0.000000\n",
      "87       Q30A    0.000000\n",
      "84       Q29A    0.000000\n",
      "0         Q1A    0.000000\n",
      "\n",
      "[172 rows x 2 columns]\n"
     ]
    }
   ],
   "source": [
    "# Examine feature importance\n",
    "dtc=DecisionTreeClassifier()\n",
    "dtc.fit(X_train_scaled,y_train)\n",
    "\n",
    "importances = pd.DataFrame(data={\n",
    "    'Attribute': X_train.columns,\n",
    "    'Importance': dtc.feature_importances_})\n",
    "\n",
    "importances = importances.sort_values(by='Importance', ascending=False)\n",
    "\n",
    "print(importances)"
   ]
  },
  {
   "cell_type": "code",
   "execution_count": 19,
   "id": "a0ea3d61",
   "metadata": {},
   "outputs": [
    {
     "name": "stdout",
     "output_type": "stream",
     "text": [
      "RMSE =  0.16687623127436346\n",
      "Processing time =  12.453125\n"
     ]
    }
   ],
   "source": [
    "t1_start = process_time() \n",
    "\n",
    "rfc = RandomForestClassifier(random_state=42)\n",
    "rfc.fit(X_train_scaled,y_train)\n",
    "y_pred=rfc.predict(X_test_scaled)\n",
    "RMSE = MSE(y_test, y_pred)**0.5\n",
    "print('RMSE = ',RMSE)\n",
    "\n",
    "t1_stop = process_time()\n",
    "\n",
    "print ('Processing time = ', t1_stop - t1_start)"
   ]
  },
  {
   "cell_type": "code",
   "execution_count": 20,
   "id": "2d19d757",
   "metadata": {},
   "outputs": [],
   "source": [
    "# Create a training and test sets for post-SMOTE-ENN data to examine DEPRESSION\n",
    "X_train, X_test, y_train, y_test = train_test_split(X_res, y_res, test_size=0.3, random_state=42)\n",
    "\n",
    "# Apply scaling\n",
    "scaler = StandardScaler()\n",
    "X_train_scaled = scaler.fit_transform(X_train)\n",
    "X_test_scaled = scaler.transform(X_test)"
   ]
  },
  {
   "cell_type": "code",
   "execution_count": 21,
   "id": "9d69f3ac",
   "metadata": {},
   "outputs": [
    {
     "name": "stdout",
     "output_type": "stream",
     "text": [
      "RMSE =  0.16037507477489604\n",
      "Processing time =  1.546875\n"
     ]
    }
   ],
   "source": [
    "t1_start = process_time() \n",
    "\n",
    "rfc = RandomForestClassifier(random_state=42)\n",
    "rfc.fit(X_train_scaled,y_train)\n",
    "y_pred=rfc.predict(X_test_scaled)\n",
    "RMSE = MSE(y_test, y_pred)**0.5\n",
    "print('RMSE = ',RMSE)\n",
    "\n",
    "t1_stop = process_time()\n",
    "\n",
    "print ('Processing time = ', t1_stop - t1_start)"
   ]
  },
  {
   "cell_type": "code",
   "execution_count": null,
   "id": "fe24a08d",
   "metadata": {},
   "outputs": [],
   "source": [
    "# Compute 5-fold cross-validation scores=\n",
    "cv_scores = cross_val_score(lin_reg, X, y, cv=5)\n",
    "print(\"5-Fold CV Scores: \", cv_scores)\n",
    "print(\"Average 5-Fold CV Score: {}\".format(np.mean(cv_scores)))"
   ]
  },
  {
   "cell_type": "code",
   "execution_count": null,
   "id": "a7d68cb1",
   "metadata": {},
   "outputs": [],
   "source": [
    "ay = df['Anxiety_cat']\n",
    "sy = df['Stress_cat']"
   ]
  }
 ],
 "metadata": {
  "kernelspec": {
   "display_name": "Python 3 (ipykernel)",
   "language": "python",
   "name": "python3"
  },
  "language_info": {
   "codemirror_mode": {
    "name": "ipython",
    "version": 3
   },
   "file_extension": ".py",
   "mimetype": "text/x-python",
   "name": "python",
   "nbconvert_exporter": "python",
   "pygments_lexer": "ipython3",
   "version": "3.9.7"
  }
 },
 "nbformat": 4,
 "nbformat_minor": 5
}
