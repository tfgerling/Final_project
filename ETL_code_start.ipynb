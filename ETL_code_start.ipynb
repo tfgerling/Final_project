{
 "cells": [
  {
   "cell_type": "code",
   "execution_count": null,
   "id": "bc54ac96",
   "metadata": {},
   "outputs": [],
   "source": []
  },
  {
   "cell_type": "code",
   "execution_count": 1,
   "id": "5658887a",
   "metadata": {},
   "outputs": [],
   "source": [
    "#Setting dependencies\n",
    "\n",
    "import numpy as np\n",
    "import pandas as pd\n",
    "\n",
    "import json\n",
    "import requests\n",
    "import time\n",
    "\n",
    "import matplotlib.pyplot as plt\n",
    "from pandas.plotting import table\n",
    "from pprint import pprint\n",
    "import seaborn as sns\n",
    "from sklearn.preprocessing import LabelEncoder\n",
    "\n",
    "#Import the python driver for PostgreSQL\n",
    "import psycopg2\n",
    "from passwords import password"
   ]
  },
  {
   "cell_type": "code",
   "execution_count": null,
   "id": "5d9a2465",
   "metadata": {},
   "outputs": [],
   "source": []
  },
  {
   "cell_type": "code",
   "execution_count": 2,
   "id": "6ee8eba5",
   "metadata": {},
   "outputs": [],
   "source": [
    "df = pd.read_csv('dass.csv')"
   ]
  },
  {
   "cell_type": "code",
   "execution_count": 3,
   "id": "5f3d4ca0",
   "metadata": {},
   "outputs": [
    {
     "data": {
      "text/html": [
       "<div>\n",
       "<style scoped>\n",
       "    .dataframe tbody tr th:only-of-type {\n",
       "        vertical-align: middle;\n",
       "    }\n",
       "\n",
       "    .dataframe tbody tr th {\n",
       "        vertical-align: top;\n",
       "    }\n",
       "\n",
       "    .dataframe thead th {\n",
       "        text-align: right;\n",
       "    }\n",
       "</style>\n",
       "<table border=\"1\" class=\"dataframe\">\n",
       "  <thead>\n",
       "    <tr style=\"text-align: right;\">\n",
       "      <th></th>\n",
       "      <th>country</th>\n",
       "      <th>Critical-quarrelsome</th>\n",
       "      <th>Dependable-self_disciplined</th>\n",
       "      <th>Anxious-easily upset</th>\n",
       "      <th>Open to new experiences-complex</th>\n",
       "      <th>Reserved-quiet</th>\n",
       "      <th>Sympathetic-warm</th>\n",
       "      <th>Disorganized-careless</th>\n",
       "      <th>Calm-emotionally_stable</th>\n",
       "      <th>Conventional-uncreative</th>\n",
       "      <th>...</th>\n",
       "      <th>major</th>\n",
       "      <th>Depression</th>\n",
       "      <th>Depression_cat</th>\n",
       "      <th>Anxiety</th>\n",
       "      <th>Anxiety_cat</th>\n",
       "      <th>Stress</th>\n",
       "      <th>Stress_cat</th>\n",
       "      <th>dep_cond</th>\n",
       "      <th>anx_cond</th>\n",
       "      <th>str_cond</th>\n",
       "    </tr>\n",
       "  </thead>\n",
       "  <tbody>\n",
       "    <tr>\n",
       "      <th>0</th>\n",
       "      <td>IN</td>\n",
       "      <td>5</td>\n",
       "      <td>7</td>\n",
       "      <td>7</td>\n",
       "      <td>7</td>\n",
       "      <td>7</td>\n",
       "      <td>7</td>\n",
       "      <td>5</td>\n",
       "      <td>1</td>\n",
       "      <td>1</td>\n",
       "      <td>...</td>\n",
       "      <td>No Degree</td>\n",
       "      <td>27</td>\n",
       "      <td>3</td>\n",
       "      <td>34</td>\n",
       "      <td>4</td>\n",
       "      <td>40</td>\n",
       "      <td>4</td>\n",
       "      <td>Severe</td>\n",
       "      <td>Extremely Severe</td>\n",
       "      <td>Extremely Severe</td>\n",
       "    </tr>\n",
       "    <tr>\n",
       "      <th>1</th>\n",
       "      <td>US</td>\n",
       "      <td>5</td>\n",
       "      <td>4</td>\n",
       "      <td>7</td>\n",
       "      <td>5</td>\n",
       "      <td>4</td>\n",
       "      <td>7</td>\n",
       "      <td>7</td>\n",
       "      <td>1</td>\n",
       "      <td>5</td>\n",
       "      <td>...</td>\n",
       "      <td>No Degree</td>\n",
       "      <td>24</td>\n",
       "      <td>3</td>\n",
       "      <td>17</td>\n",
       "      <td>3</td>\n",
       "      <td>27</td>\n",
       "      <td>3</td>\n",
       "      <td>Severe</td>\n",
       "      <td>Severe</td>\n",
       "      <td>Severe</td>\n",
       "    </tr>\n",
       "    <tr>\n",
       "      <th>2</th>\n",
       "      <td>PL</td>\n",
       "      <td>5</td>\n",
       "      <td>2</td>\n",
       "      <td>2</td>\n",
       "      <td>5</td>\n",
       "      <td>6</td>\n",
       "      <td>5</td>\n",
       "      <td>5</td>\n",
       "      <td>3</td>\n",
       "      <td>2</td>\n",
       "      <td>...</td>\n",
       "      <td>No Degree</td>\n",
       "      <td>39</td>\n",
       "      <td>4</td>\n",
       "      <td>12</td>\n",
       "      <td>2</td>\n",
       "      <td>17</td>\n",
       "      <td>1</td>\n",
       "      <td>Extremely Severe</td>\n",
       "      <td>Moderate</td>\n",
       "      <td>Mild</td>\n",
       "    </tr>\n",
       "    <tr>\n",
       "      <th>3</th>\n",
       "      <td>US</td>\n",
       "      <td>1</td>\n",
       "      <td>7</td>\n",
       "      <td>4</td>\n",
       "      <td>6</td>\n",
       "      <td>4</td>\n",
       "      <td>6</td>\n",
       "      <td>1</td>\n",
       "      <td>6</td>\n",
       "      <td>1</td>\n",
       "      <td>...</td>\n",
       "      <td>Biology</td>\n",
       "      <td>16</td>\n",
       "      <td>2</td>\n",
       "      <td>17</td>\n",
       "      <td>3</td>\n",
       "      <td>16</td>\n",
       "      <td>1</td>\n",
       "      <td>Moderate</td>\n",
       "      <td>Severe</td>\n",
       "      <td>Mild</td>\n",
       "    </tr>\n",
       "    <tr>\n",
       "      <th>4</th>\n",
       "      <td>MY</td>\n",
       "      <td>5</td>\n",
       "      <td>3</td>\n",
       "      <td>6</td>\n",
       "      <td>5</td>\n",
       "      <td>5</td>\n",
       "      <td>5</td>\n",
       "      <td>6</td>\n",
       "      <td>3</td>\n",
       "      <td>3</td>\n",
       "      <td>...</td>\n",
       "      <td>Psychology</td>\n",
       "      <td>32</td>\n",
       "      <td>4</td>\n",
       "      <td>40</td>\n",
       "      <td>4</td>\n",
       "      <td>29</td>\n",
       "      <td>3</td>\n",
       "      <td>Extremely Severe</td>\n",
       "      <td>Extremely Severe</td>\n",
       "      <td>Severe</td>\n",
       "    </tr>\n",
       "  </tbody>\n",
       "</table>\n",
       "<p>5 rows × 32 columns</p>\n",
       "</div>"
      ],
      "text/plain": [
       "  country  Critical-quarrelsome  Dependable-self_disciplined  \\\n",
       "0      IN                     5                            7   \n",
       "1      US                     5                            4   \n",
       "2      PL                     5                            2   \n",
       "3      US                     1                            7   \n",
       "4      MY                     5                            3   \n",
       "\n",
       "   Anxious-easily upset  Open to new experiences-complex  Reserved-quiet  \\\n",
       "0                     7                                7               7   \n",
       "1                     7                                5               4   \n",
       "2                     2                                5               6   \n",
       "3                     4                                6               4   \n",
       "4                     6                                5               5   \n",
       "\n",
       "   Sympathetic-warm  Disorganized-careless  Calm-emotionally_stable  \\\n",
       "0                 7                      5                        1   \n",
       "1                 7                      7                        1   \n",
       "2                 5                      5                        3   \n",
       "3                 6                      1                        6   \n",
       "4                 5                      6                        3   \n",
       "\n",
       "   Conventional-uncreative  ...       major  Depression  Depression_cat  \\\n",
       "0                        1  ...   No Degree          27               3   \n",
       "1                        5  ...   No Degree          24               3   \n",
       "2                        2  ...   No Degree          39               4   \n",
       "3                        1  ...     Biology          16               2   \n",
       "4                        3  ...  Psychology          32               4   \n",
       "\n",
       "   Anxiety Anxiety_cat  Stress  Stress_cat          dep_cond  \\\n",
       "0       34           4      40           4            Severe   \n",
       "1       17           3      27           3            Severe   \n",
       "2       12           2      17           1  Extremely Severe   \n",
       "3       17           3      16           1          Moderate   \n",
       "4       40           4      29           3  Extremely Severe   \n",
       "\n",
       "           anx_cond          str_cond  \n",
       "0  Extremely Severe  Extremely Severe  \n",
       "1            Severe            Severe  \n",
       "2          Moderate              Mild  \n",
       "3            Severe              Mild  \n",
       "4  Extremely Severe            Severe  \n",
       "\n",
       "[5 rows x 32 columns]"
      ]
     },
     "execution_count": 3,
     "metadata": {},
     "output_type": "execute_result"
    }
   ],
   "source": [
    "df.head()"
   ]
  },
  {
   "cell_type": "code",
   "execution_count": 4,
   "id": "a39d1cca",
   "metadata": {},
   "outputs": [
    {
     "name": "stdout",
     "output_type": "stream",
     "text": [
      "<class 'pandas.core.frame.DataFrame'>\n",
      "RangeIndex: 39737 entries, 0 to 39736\n",
      "Data columns (total 32 columns):\n",
      " #   Column                           Non-Null Count  Dtype  \n",
      "---  ------                           --------------  -----  \n",
      " 0   country                          39737 non-null  object \n",
      " 1   Critical-quarrelsome             39737 non-null  int64  \n",
      " 2   Dependable-self_disciplined      39737 non-null  int64  \n",
      " 3   Anxious-easily upset             39737 non-null  int64  \n",
      " 4   Open to new experiences-complex  39737 non-null  int64  \n",
      " 5   Reserved-quiet                   39737 non-null  int64  \n",
      " 6   Sympathetic-warm                 39737 non-null  int64  \n",
      " 7   Disorganized-careless            39737 non-null  int64  \n",
      " 8   Calm-emotionally_stable          39737 non-null  int64  \n",
      " 9   Conventional-uncreative          39737 non-null  int64  \n",
      " 10  education                        39737 non-null  int64  \n",
      " 11  urban                            39737 non-null  int64  \n",
      " 12  gender                           39737 non-null  int64  \n",
      " 13  engnat                           39737 non-null  int64  \n",
      " 14  age_group                        39737 non-null  object \n",
      " 15  hand                             39737 non-null  int64  \n",
      " 16  religion                         39737 non-null  int64  \n",
      " 17  orientation                      39737 non-null  int64  \n",
      " 18  race                             39737 non-null  int64  \n",
      " 19  voted                            39737 non-null  int64  \n",
      " 20  married                          39737 non-null  int64  \n",
      " 21  familysize                       39737 non-null  float64\n",
      " 22  major                            39737 non-null  object \n",
      " 23  Depression                       39737 non-null  int64  \n",
      " 24  Depression_cat                   39737 non-null  int64  \n",
      " 25  Anxiety                          39737 non-null  int64  \n",
      " 26  Anxiety_cat                      39737 non-null  int64  \n",
      " 27  Stress                           39737 non-null  int64  \n",
      " 28  Stress_cat                       39737 non-null  int64  \n",
      " 29  dep_cond                         39737 non-null  object \n",
      " 30  anx_cond                         39737 non-null  object \n",
      " 31  str_cond                         39737 non-null  object \n",
      "dtypes: float64(1), int64(25), object(6)\n",
      "memory usage: 9.7+ MB\n"
     ]
    }
   ],
   "source": [
    "df.info()"
   ]
  },
  {
   "cell_type": "markdown",
   "id": "ce294296",
   "metadata": {},
   "source": [
    "familysize was left as a float - changing it to int to combine familysize of 3 (which was the mean inserted into the ones that had a value greater than 15)"
   ]
  },
  {
   "cell_type": "code",
   "execution_count": 5,
   "id": "b9273bb6",
   "metadata": {},
   "outputs": [
    {
     "data": {
      "text/plain": [
       "3.000000     9195\n",
       "2.000000     9012\n",
       "4.000000     7532\n",
       "5.000000     4826\n",
       "1.000000     4065\n",
       "6.000000     2448\n",
       "7.000000     1243\n",
       "8.000000      675\n",
       "9.000000      331\n",
       "10.000000     194\n",
       "11.000000     109\n",
       "12.000000      56\n",
       "13.000000      19\n",
       "3.510381       18\n",
       "14.000000       8\n",
       "15.000000       6\n",
       "Name: familysize, dtype: int64"
      ]
     },
     "execution_count": 5,
     "metadata": {},
     "output_type": "execute_result"
    }
   ],
   "source": [
    "df['familysize'].value_counts()"
   ]
  },
  {
   "cell_type": "code",
   "execution_count": 6,
   "id": "57f476ff",
   "metadata": {},
   "outputs": [
    {
     "data": {
      "text/plain": [
       "3     9213\n",
       "2     9012\n",
       "4     7532\n",
       "5     4826\n",
       "1     4065\n",
       "6     2448\n",
       "7     1243\n",
       "8      675\n",
       "9      331\n",
       "10     194\n",
       "11     109\n",
       "12      56\n",
       "13      19\n",
       "14       8\n",
       "15       6\n",
       "Name: familysize, dtype: int64"
      ]
     },
     "execution_count": 6,
     "metadata": {},
     "output_type": "execute_result"
    }
   ],
   "source": [
    "df[[\"familysize\"]] = df[[\"familysize\"]].astype(int)\n",
    "df['familysize'].value_counts()"
   ]
  },
  {
   "cell_type": "markdown",
   "id": "dcf387f3",
   "metadata": {},
   "source": [
    "Create keys for each planned table and write each table out to a separate csv file."
   ]
  },
  {
   "cell_type": "code",
   "execution_count": 7,
   "id": "d29e66fa",
   "metadata": {},
   "outputs": [],
   "source": [
    "class_labels = LabelEncoder()"
   ]
  },
  {
   "cell_type": "code",
   "execution_count": 8,
   "id": "47489dfd",
   "metadata": {},
   "outputs": [],
   "source": [
    "df['age_grp_id'] = class_labels.fit_transform(df['age_group'].values)"
   ]
  },
  {
   "cell_type": "code",
   "execution_count": 9,
   "id": "a52f8838",
   "metadata": {},
   "outputs": [],
   "source": [
    "df['person_info'] = df['gender'].astype(str) + df['age_grp_id'].astype(str) + df['race'].astype(str) + df['orientation'].astype(str) + df['hand'].astype(str) + df['married'].astype(str) + df['familysize'].astype(str) + df['engnat'].astype(str) + df['urban'].astype(str) + df['country'] +df['Depression'].astype(str) + df['Anxiety'].astype(str) + df['Stress'].astype(str) + df['education'].astype(str)+df['major'] + df['religion'].astype(str) + df['race'].astype(str) + df['voted'].astype(str) +df['Dependable-self_disciplined'].astype(str)+df['Anxious-easily upset'].astype(str)+df['Open to new experiences-complex'].astype(str) + df['Reserved-quiet'].astype(str)+df['Sympathetic-warm'].astype(str)\n",
    "df['person_id'] = class_labels.fit_transform(df['person_info'].values)\n"
   ]
  },
  {
   "cell_type": "code",
   "execution_count": 10,
   "id": "fd238f5b",
   "metadata": {},
   "outputs": [
    {
     "data": {
      "text/plain": [
       "29077    1\n",
       "9396     1\n",
       "462      1\n",
       "36646    1\n",
       "34407    1\n",
       "        ..\n",
       "7266     1\n",
       "35274    1\n",
       "25810    1\n",
       "1511     1\n",
       "21183    1\n",
       "Name: person_id, Length: 39737, dtype: int64"
      ]
     },
     "execution_count": 10,
     "metadata": {},
     "output_type": "execute_result"
    }
   ],
   "source": [
    "df['person_id'].value_counts()"
   ]
  },
  {
   "cell_type": "code",
   "execution_count": null,
   "id": "1e7ab43e",
   "metadata": {},
   "outputs": [],
   "source": []
  },
  {
   "cell_type": "code",
   "execution_count": 11,
   "id": "42f458d5",
   "metadata": {},
   "outputs": [],
   "source": [
    "df['loc_info'] = df['urban'].astype(str) + df['country'] + df['person_info']\n",
    "df['loc_id'] = class_labels.fit_transform(df['loc_info'].values)\n",
    "df['dass_info'] = df['Depression'].astype(str) + df['Anxiety'].astype(str) + df['Stress'].astype(str) + df['person_info']\n",
    "df['dass_id'] = class_labels.fit_transform(df['dass_info'])"
   ]
  },
  {
   "cell_type": "markdown",
   "id": "6143e256",
   "metadata": {},
   "source": [
    "Remove interim columns now that keys are created"
   ]
  },
  {
   "cell_type": "code",
   "execution_count": 12,
   "id": "4f6aed4a",
   "metadata": {},
   "outputs": [],
   "source": [
    "df.drop(['person_info', 'loc_info', 'dass_info'], axis='columns', inplace=True)"
   ]
  },
  {
   "cell_type": "code",
   "execution_count": 13,
   "id": "8d1f169a",
   "metadata": {},
   "outputs": [],
   "source": [
    "person_df = df.filter(['person_id','gender','race', 'orientation', 'married', 'hand', 'familysize', 'engnat', 'age_grp_id'], axis=1)\n",
    "age_grp_df = df.filter(['age_grp_id', 'age_group'], axis=1)\n",
    "loc_info_df = df.filter(['loc_id', 'urban', 'country', 'person_id'], axis=1)\n",
    "dass_info_df = df.filter(['dass_id', 'Depression', 'Depression_cat', 'Anxiety', 'Anxiety_cat', 'Stress', 'Stress_cat', 'person_id'], axis=1)"
   ]
  },
  {
   "cell_type": "markdown",
   "id": "3355a1a1",
   "metadata": {},
   "source": [
    "Check each one to make sure data looks good"
   ]
  },
  {
   "cell_type": "code",
   "execution_count": 14,
   "id": "65927b04",
   "metadata": {},
   "outputs": [
    {
     "data": {
      "text/html": [
       "<div>\n",
       "<style scoped>\n",
       "    .dataframe tbody tr th:only-of-type {\n",
       "        vertical-align: middle;\n",
       "    }\n",
       "\n",
       "    .dataframe tbody tr th {\n",
       "        vertical-align: top;\n",
       "    }\n",
       "\n",
       "    .dataframe thead th {\n",
       "        text-align: right;\n",
       "    }\n",
       "</style>\n",
       "<table border=\"1\" class=\"dataframe\">\n",
       "  <thead>\n",
       "    <tr style=\"text-align: right;\">\n",
       "      <th></th>\n",
       "      <th>person_id</th>\n",
       "      <th>gender</th>\n",
       "      <th>race</th>\n",
       "      <th>orientation</th>\n",
       "      <th>married</th>\n",
       "      <th>hand</th>\n",
       "      <th>familysize</th>\n",
       "      <th>engnat</th>\n",
       "      <th>age_grp_id</th>\n",
       "    </tr>\n",
       "  </thead>\n",
       "  <tbody>\n",
       "    <tr>\n",
       "      <th>0</th>\n",
       "      <td>29077</td>\n",
       "      <td>2</td>\n",
       "      <td>10</td>\n",
       "      <td>1</td>\n",
       "      <td>1</td>\n",
       "      <td>1</td>\n",
       "      <td>2</td>\n",
       "      <td>2</td>\n",
       "      <td>7</td>\n",
       "    </tr>\n",
       "    <tr>\n",
       "      <th>1</th>\n",
       "      <td>39093</td>\n",
       "      <td>2</td>\n",
       "      <td>70</td>\n",
       "      <td>5</td>\n",
       "      <td>1</td>\n",
       "      <td>2</td>\n",
       "      <td>4</td>\n",
       "      <td>1</td>\n",
       "      <td>7</td>\n",
       "    </tr>\n",
       "    <tr>\n",
       "      <th>2</th>\n",
       "      <td>37286</td>\n",
       "      <td>2</td>\n",
       "      <td>60</td>\n",
       "      <td>3</td>\n",
       "      <td>1</td>\n",
       "      <td>1</td>\n",
       "      <td>3</td>\n",
       "      <td>2</td>\n",
       "      <td>7</td>\n",
       "    </tr>\n",
       "    <tr>\n",
       "      <th>3</th>\n",
       "      <td>39102</td>\n",
       "      <td>2</td>\n",
       "      <td>70</td>\n",
       "      <td>5</td>\n",
       "      <td>1</td>\n",
       "      <td>2</td>\n",
       "      <td>5</td>\n",
       "      <td>1</td>\n",
       "      <td>7</td>\n",
       "    </tr>\n",
       "    <tr>\n",
       "      <th>4</th>\n",
       "      <td>31768</td>\n",
       "      <td>2</td>\n",
       "      <td>10</td>\n",
       "      <td>1</td>\n",
       "      <td>1</td>\n",
       "      <td>3</td>\n",
       "      <td>4</td>\n",
       "      <td>2</td>\n",
       "      <td>7</td>\n",
       "    </tr>\n",
       "  </tbody>\n",
       "</table>\n",
       "</div>"
      ],
      "text/plain": [
       "   person_id  gender  race  orientation  married  hand  familysize  engnat  \\\n",
       "0      29077       2    10            1        1     1           2       2   \n",
       "1      39093       2    70            5        1     2           4       1   \n",
       "2      37286       2    60            3        1     1           3       2   \n",
       "3      39102       2    70            5        1     2           5       1   \n",
       "4      31768       2    10            1        1     3           4       2   \n",
       "\n",
       "   age_grp_id  \n",
       "0           7  \n",
       "1           7  \n",
       "2           7  \n",
       "3           7  \n",
       "4           7  "
      ]
     },
     "execution_count": 14,
     "metadata": {},
     "output_type": "execute_result"
    }
   ],
   "source": [
    "person_df.head()"
   ]
  },
  {
   "cell_type": "code",
   "execution_count": 15,
   "id": "8850cda9",
   "metadata": {},
   "outputs": [
    {
     "data": {
      "text/plain": [
       "person_id  gender  race  orientation  married  hand  familysize  engnat  age_grp_id\n",
       "0          1       10    1            1        1     10          2       0             1\n",
       "26494      2       60    1            1        1     1           1       3             1\n",
       "26487      2       50    1            2        1     1           1       3             1\n",
       "26488      2       50    1            2        1     4           1       3             1\n",
       "26489      2       50    2            3        1     3           2       3             1\n",
       "                                                                                      ..\n",
       "13247      2       10    1            1        1     7           2       0             1\n",
       "13248      2       10    1            1        1     7           2       0             1\n",
       "13249      2       10    1            1        1     7           2       0             1\n",
       "13250      2       10    1            1        1     7           2       0             1\n",
       "39736      3       70    5            1        3     12          1       7             1\n",
       "Length: 39737, dtype: int64"
      ]
     },
     "execution_count": 15,
     "metadata": {},
     "output_type": "execute_result"
    }
   ],
   "source": [
    "person_df.value_counts()"
   ]
  },
  {
   "cell_type": "code",
   "execution_count": 17,
   "id": "f0d932fe",
   "metadata": {},
   "outputs": [
    {
     "data": {
      "text/plain": [
       "person_id  gender  race  orientation  married  hand  familysize  engnat  age_grp_id\n",
       "0          1       10    1            1        1     10          2       0             1\n",
       "26494      2       60    1            1        1     1           1       3             1\n",
       "26487      2       50    1            2        1     1           1       3             1\n",
       "26488      2       50    1            2        1     4           1       3             1\n",
       "26489      2       50    2            3        1     3           2       3             1\n",
       "                                                                                      ..\n",
       "13247      2       10    1            1        1     7           2       0             1\n",
       "13248      2       10    1            1        1     7           2       0             1\n",
       "13249      2       10    1            1        1     7           2       0             1\n",
       "13250      2       10    1            1        1     7           2       0             1\n",
       "39736      3       70    5            1        3     12          1       7             1\n",
       "Length: 39737, dtype: int64"
      ]
     },
     "execution_count": 17,
     "metadata": {},
     "output_type": "execute_result"
    }
   ],
   "source": [
    "person_df.value_counts()"
   ]
  },
  {
   "cell_type": "code",
   "execution_count": 18,
   "id": "02c048ea",
   "metadata": {},
   "outputs": [
    {
     "data": {
      "text/html": [
       "<div>\n",
       "<style scoped>\n",
       "    .dataframe tbody tr th:only-of-type {\n",
       "        vertical-align: middle;\n",
       "    }\n",
       "\n",
       "    .dataframe tbody tr th {\n",
       "        vertical-align: top;\n",
       "    }\n",
       "\n",
       "    .dataframe thead th {\n",
       "        text-align: right;\n",
       "    }\n",
       "</style>\n",
       "<table border=\"1\" class=\"dataframe\">\n",
       "  <thead>\n",
       "    <tr style=\"text-align: right;\">\n",
       "      <th></th>\n",
       "      <th>age_grp_id</th>\n",
       "      <th>age_group</th>\n",
       "    </tr>\n",
       "  </thead>\n",
       "  <tbody>\n",
       "    <tr>\n",
       "      <th>0</th>\n",
       "      <td>7</td>\n",
       "      <td>Below 20</td>\n",
       "    </tr>\n",
       "    <tr>\n",
       "      <th>1</th>\n",
       "      <td>7</td>\n",
       "      <td>Below 20</td>\n",
       "    </tr>\n",
       "    <tr>\n",
       "      <th>2</th>\n",
       "      <td>7</td>\n",
       "      <td>Below 20</td>\n",
       "    </tr>\n",
       "    <tr>\n",
       "      <th>3</th>\n",
       "      <td>7</td>\n",
       "      <td>Below 20</td>\n",
       "    </tr>\n",
       "    <tr>\n",
       "      <th>4</th>\n",
       "      <td>7</td>\n",
       "      <td>Below 20</td>\n",
       "    </tr>\n",
       "  </tbody>\n",
       "</table>\n",
       "</div>"
      ],
      "text/plain": [
       "   age_grp_id age_group\n",
       "0           7  Below 20\n",
       "1           7  Below 20\n",
       "2           7  Below 20\n",
       "3           7  Below 20\n",
       "4           7  Below 20"
      ]
     },
     "execution_count": 18,
     "metadata": {},
     "output_type": "execute_result"
    }
   ],
   "source": [
    "age_grp_df.head()"
   ]
  },
  {
   "cell_type": "code",
   "execution_count": 19,
   "id": "59719327",
   "metadata": {},
   "outputs": [
    {
     "data": {
      "text/plain": [
       "age_grp_id  age_group\n",
       "0           20-24        14766\n",
       "7           Below 20     13820\n",
       "1           25-29         5439\n",
       "2           30-34         2194\n",
       "4           40-49         1321\n",
       "3           35-39         1138\n",
       "5           50-59          764\n",
       "6           Above 60       295\n",
       "dtype: int64"
      ]
     },
     "execution_count": 19,
     "metadata": {},
     "output_type": "execute_result"
    }
   ],
   "source": [
    "age_grp_df.value_counts()"
   ]
  },
  {
   "cell_type": "markdown",
   "id": "fed53009",
   "metadata": {},
   "source": [
    "There are duplicates in the age_grp_df since it is a domain table - will be dropping the duplicates"
   ]
  },
  {
   "cell_type": "code",
   "execution_count": 20,
   "id": "4adc00dc",
   "metadata": {},
   "outputs": [],
   "source": [
    "age_grp_df=age_grp_df.drop_duplicates()"
   ]
  },
  {
   "cell_type": "code",
   "execution_count": 21,
   "id": "a7eedeff",
   "metadata": {},
   "outputs": [
    {
     "data": {
      "text/plain": [
       "age_grp_id  age_group\n",
       "0           20-24        1\n",
       "1           25-29        1\n",
       "2           30-34        1\n",
       "3           35-39        1\n",
       "4           40-49        1\n",
       "5           50-59        1\n",
       "6           Above 60     1\n",
       "7           Below 20     1\n",
       "dtype: int64"
      ]
     },
     "execution_count": 21,
     "metadata": {},
     "output_type": "execute_result"
    }
   ],
   "source": [
    "age_grp_df.value_counts()"
   ]
  },
  {
   "cell_type": "code",
   "execution_count": 22,
   "id": "25cb0f75",
   "metadata": {},
   "outputs": [
    {
     "data": {
      "text/html": [
       "<div>\n",
       "<style scoped>\n",
       "    .dataframe tbody tr th:only-of-type {\n",
       "        vertical-align: middle;\n",
       "    }\n",
       "\n",
       "    .dataframe tbody tr th {\n",
       "        vertical-align: top;\n",
       "    }\n",
       "\n",
       "    .dataframe thead th {\n",
       "        text-align: right;\n",
       "    }\n",
       "</style>\n",
       "<table border=\"1\" class=\"dataframe\">\n",
       "  <thead>\n",
       "    <tr style=\"text-align: right;\">\n",
       "      <th></th>\n",
       "      <th>loc_id</th>\n",
       "      <th>urban</th>\n",
       "      <th>country</th>\n",
       "      <th>person_id</th>\n",
       "    </tr>\n",
       "  </thead>\n",
       "  <tbody>\n",
       "    <tr>\n",
       "      <th>0</th>\n",
       "      <td>24936</td>\n",
       "      <td>3</td>\n",
       "      <td>IN</td>\n",
       "      <td>29077</td>\n",
       "    </tr>\n",
       "    <tr>\n",
       "      <th>1</th>\n",
       "      <td>39537</td>\n",
       "      <td>3</td>\n",
       "      <td>US</td>\n",
       "      <td>39093</td>\n",
       "    </tr>\n",
       "    <tr>\n",
       "      <th>2</th>\n",
       "      <td>36175</td>\n",
       "      <td>3</td>\n",
       "      <td>PL</td>\n",
       "      <td>37286</td>\n",
       "    </tr>\n",
       "    <tr>\n",
       "      <th>3</th>\n",
       "      <td>39539</td>\n",
       "      <td>3</td>\n",
       "      <td>US</td>\n",
       "      <td>39102</td>\n",
       "    </tr>\n",
       "    <tr>\n",
       "      <th>4</th>\n",
       "      <td>17051</td>\n",
       "      <td>2</td>\n",
       "      <td>MY</td>\n",
       "      <td>31768</td>\n",
       "    </tr>\n",
       "  </tbody>\n",
       "</table>\n",
       "</div>"
      ],
      "text/plain": [
       "   loc_id  urban country  person_id\n",
       "0   24936      3      IN      29077\n",
       "1   39537      3      US      39093\n",
       "2   36175      3      PL      37286\n",
       "3   39539      3      US      39102\n",
       "4   17051      2      MY      31768"
      ]
     },
     "execution_count": 22,
     "metadata": {},
     "output_type": "execute_result"
    }
   ],
   "source": [
    "loc_info_df.head()"
   ]
  },
  {
   "cell_type": "code",
   "execution_count": 23,
   "id": "b4251cff",
   "metadata": {},
   "outputs": [
    {
     "data": {
      "text/html": [
       "<div>\n",
       "<style scoped>\n",
       "    .dataframe tbody tr th:only-of-type {\n",
       "        vertical-align: middle;\n",
       "    }\n",
       "\n",
       "    .dataframe tbody tr th {\n",
       "        vertical-align: top;\n",
       "    }\n",
       "\n",
       "    .dataframe thead th {\n",
       "        text-align: right;\n",
       "    }\n",
       "</style>\n",
       "<table border=\"1\" class=\"dataframe\">\n",
       "  <thead>\n",
       "    <tr style=\"text-align: right;\">\n",
       "      <th></th>\n",
       "      <th>dass_id</th>\n",
       "      <th>Depression</th>\n",
       "      <th>Depression_cat</th>\n",
       "      <th>Anxiety</th>\n",
       "      <th>Anxiety_cat</th>\n",
       "      <th>Stress</th>\n",
       "      <th>Stress_cat</th>\n",
       "      <th>person_id</th>\n",
       "    </tr>\n",
       "  </thead>\n",
       "  <tbody>\n",
       "    <tr>\n",
       "      <th>0</th>\n",
       "      <td>19679</td>\n",
       "      <td>27</td>\n",
       "      <td>3</td>\n",
       "      <td>34</td>\n",
       "      <td>4</td>\n",
       "      <td>40</td>\n",
       "      <td>4</td>\n",
       "      <td>29077</td>\n",
       "    </tr>\n",
       "    <tr>\n",
       "      <th>1</th>\n",
       "      <td>16115</td>\n",
       "      <td>24</td>\n",
       "      <td>3</td>\n",
       "      <td>17</td>\n",
       "      <td>3</td>\n",
       "      <td>27</td>\n",
       "      <td>3</td>\n",
       "      <td>39093</td>\n",
       "    </tr>\n",
       "    <tr>\n",
       "      <th>2</th>\n",
       "      <td>30383</td>\n",
       "      <td>39</td>\n",
       "      <td>4</td>\n",
       "      <td>12</td>\n",
       "      <td>2</td>\n",
       "      <td>17</td>\n",
       "      <td>1</td>\n",
       "      <td>37286</td>\n",
       "    </tr>\n",
       "    <tr>\n",
       "      <th>3</th>\n",
       "      <td>7826</td>\n",
       "      <td>16</td>\n",
       "      <td>2</td>\n",
       "      <td>17</td>\n",
       "      <td>3</td>\n",
       "      <td>16</td>\n",
       "      <td>1</td>\n",
       "      <td>39102</td>\n",
       "    </tr>\n",
       "    <tr>\n",
       "      <th>4</th>\n",
       "      <td>24629</td>\n",
       "      <td>32</td>\n",
       "      <td>4</td>\n",
       "      <td>40</td>\n",
       "      <td>4</td>\n",
       "      <td>29</td>\n",
       "      <td>3</td>\n",
       "      <td>31768</td>\n",
       "    </tr>\n",
       "  </tbody>\n",
       "</table>\n",
       "</div>"
      ],
      "text/plain": [
       "   dass_id  Depression  Depression_cat  Anxiety  Anxiety_cat  Stress  \\\n",
       "0    19679          27               3       34            4      40   \n",
       "1    16115          24               3       17            3      27   \n",
       "2    30383          39               4       12            2      17   \n",
       "3     7826          16               2       17            3      16   \n",
       "4    24629          32               4       40            4      29   \n",
       "\n",
       "   Stress_cat  person_id  \n",
       "0           4      29077  \n",
       "1           3      39093  \n",
       "2           1      37286  \n",
       "3           1      39102  \n",
       "4           3      31768  "
      ]
     },
     "execution_count": 23,
     "metadata": {},
     "output_type": "execute_result"
    }
   ],
   "source": [
    "dass_info_df.head()"
   ]
  },
  {
   "cell_type": "markdown",
   "id": "d49fffd6",
   "metadata": {},
   "source": [
    "Write each of the new dataframes to csv files."
   ]
  },
  {
   "cell_type": "code",
   "execution_count": 24,
   "id": "da25ea68",
   "metadata": {},
   "outputs": [],
   "source": [
    "person_df.to_csv(\"person.csv\",index=False)\n",
    "age_grp_df.to_csv(\"age_grp.csv\",index=False)\n",
    "loc_info_df.to_csv(\"loc_info.csv\",index=False)\n",
    "dass_info_df.to_csv(\"dass_info.csv\",index=False)"
   ]
  },
  {
   "attachments": {
    "Data_Model_Final_Project.svg": {
     "image/svg+xml": [
      "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"
     ]
    }
   },
   "cell_type": "markdown",
   "id": "4184d3a4",
   "metadata": {},
   "source": [
    "![Data_Model_Final_Project.svg](attachment:Data_Model_Final_Project.svg)"
   ]
  },
  {
   "cell_type": "markdown",
   "id": "cee306d9",
   "metadata": {},
   "source": [
    "Begin the database work - create tables and then load them."
   ]
  },
  {
   "cell_type": "markdown",
   "id": "8728a167",
   "metadata": {},
   "source": [
    "# Create database"
   ]
  },
  {
   "cell_type": "code",
   "execution_count": 48,
   "id": "f1d11cf3",
   "metadata": {},
   "outputs": [],
   "source": [
    "import psycopg2\n",
    "\n",
    "from psycopg2.extensions import ISOLATION_LEVEL_AUTOCOMMIT\n",
    "\n",
    " \n",
    "\n",
    "# Connect to PostgreSQL DBMS\n",
    "\n",
    "con = psycopg2.connect(user = \"postgres\", password = password);\n",
    "\n",
    "con.set_isolation_level(ISOLATION_LEVEL_AUTOCOMMIT);\n",
    "\n",
    " \n",
    "\n",
    "# Obtain a DB Cursor\n",
    "\n",
    "cursor          = con.cursor();\n",
    "\n",
    "name_Database   = \"dass\";\n",
    "\n",
    " \n",
    "\n",
    "# Create table statement\n",
    "\n",
    "sqlCreateDatabase = \"create database \"+name_Database+\";\"\n",
    "\n",
    " \n",
    "\n",
    "# Create a table in PostgreSQL database\n",
    "\n",
    "cursor.execute(sqlCreateDatabase);"
   ]
  },
  {
   "cell_type": "markdown",
   "id": "63990c29",
   "metadata": {},
   "source": [
    "## Create tables"
   ]
  },
  {
   "cell_type": "code",
   "execution_count": 28,
   "id": "98a69e5c",
   "metadata": {},
   "outputs": [
    {
     "name": "stdout",
     "output_type": "stream",
     "text": [
      "Connection established\n",
      "Cursor opened\n",
      "Tables created\n",
      "Commit successful\n",
      "PostgreSQL cursor & connection is now closed\n"
     ]
    }
   ],
   "source": [
    "def create_tables():\n",
    "    \"\"\" Use create commands to add tables to dass database in postgres\"\"\"\n",
    "    \n",
    "    commands = (\n",
    "        \"\"\"\n",
    "        CREATE TABLE age_grp(\n",
    "        age_grp_id SERIAL PRIMARY KEY,\n",
    "        age_group CHAR(30))\n",
    "        \"\"\",\n",
    "        \"\"\"\n",
    "        CREATE TABLE person_info(\n",
    "        person_id SERIAL PRIMARY KEY,\n",
    "        gender INTEGER,\n",
    "        race INTEGER,\n",
    "        orientation INTEGER,\n",
    "        married INTEGER,\n",
    "        hand INTEGER,\n",
    "        familysize INTEGER,\n",
    "        engnat INTEGER,\n",
    "        age_grp_id SERIAL REFERENCES age_grp(age_grp_id))\n",
    "        \"\"\",\n",
    "        \"\"\"\n",
    "        CREATE TABLE location_info(\n",
    "        loc_id SERIAL PRIMARY KEY,\n",
    "        urban INTEGER, \n",
    "        country CHAR(2),\n",
    "        person_id SERIAL REFERENCES person_info(person_id))\n",
    "        \"\"\",\n",
    "        \"\"\"\n",
    "        CREATE TABLE dass_info(\n",
    "        dass_id SERIAL PRIMARY KEY,\n",
    "        dep_score INTEGER,\n",
    "        dep_level INTEGER,\n",
    "        anxiety_score INTEGER,\n",
    "        anxiety_level INTEGER,\n",
    "        stress_score INTEGER,\n",
    "        stress_level INTEGER,\n",
    "        person_id SERIAL REFERENCES person_info(person_id))\n",
    "        \"\"\"\n",
    "        )\n",
    "    \n",
    "    \n",
    "    #Create a connection credentials to the PostgreSQL database\n",
    "    try:\n",
    "        conn = psycopg2.connect(user = \"postgres\", password = password, database = \"dass\")\n",
    "        print(\"Connection established\")\n",
    "        \n",
    "        #Create a cursor connection object to a PostgreSQL instance \n",
    "        cur = conn.cursor()\n",
    "        print(\"Cursor opened\")\n",
    "    \n",
    "        for command in commands:\n",
    "            cur.execute(command)\n",
    "    \n",
    "        print(\"Tables created\")\n",
    "    \n",
    "        #Commit transaction and prints the result successfully\n",
    "        conn.commit()\n",
    "        print (\"Commit successful\")\n",
    "\n",
    "    #Handle the error throws by the command that is useful when using python while working with PostgreSQL\n",
    "    except(Exception, psycopg2.Error) as error:\n",
    "        print(\"Error connecting to PostgreSQL database\", error)\n",
    "        conn = None\n",
    "\n",
    "    #Close the database connection\n",
    "    finally:\n",
    "        if(conn != None):\n",
    "            cur.close()\n",
    "            conn.close()\n",
    "            print(\"PostgreSQL cursor & connection is now closed\")\n",
    "            \n",
    "if __name__ == '__main__':\n",
    "    create_tables()"
   ]
  },
  {
   "cell_type": "markdown",
   "id": "192472c3",
   "metadata": {},
   "source": [
    "## Load tables"
   ]
  },
  {
   "cell_type": "code",
   "execution_count": 29,
   "id": "f9952c16",
   "metadata": {},
   "outputs": [],
   "source": [
    "def load_table_func(conn,csv_file,table_na):\n",
    "    cur = conn.cursor()\n",
    "    print(\"Cursor opened for processing csv \",csv_file)\n",
    "    \n",
    "    with open(csv_file,'r') as i:\n",
    "        # Skip the header row\n",
    "        next(i)\n",
    "        \n",
    "        # copy the table\n",
    "        cur.copy_from(i,table_na,sep=',',null='')\n",
    "    "
   ]
  },
  {
   "cell_type": "code",
   "execution_count": 30,
   "id": "59c587e0",
   "metadata": {},
   "outputs": [
    {
     "name": "stdout",
     "output_type": "stream",
     "text": [
      "Connection established\n",
      "Cursor opened for processing csv  age_grp.csv\n",
      "Cursor opened for processing csv  person.csv\n",
      "Cursor opened for processing csv  loc_info.csv\n",
      "Cursor opened for processing csv  dass_info.csv\n"
     ]
    }
   ],
   "source": [
    "conn = psycopg2.connect(user = \"postgres\", password = password, database = \"dass\")\n",
    "print(\"Connection established\")\n",
    "\n",
    "load_table_func(conn,'age_grp.csv','age_grp')\n",
    "load_table_func(conn,'person.csv','person_info')\n",
    "load_table_func(conn,'loc_info.csv','location_info')\n",
    "load_table_func(conn,'dass_info.csv','dass_info')\n",
    "conn.commit()\n",
    "conn.close()"
   ]
  },
  {
   "cell_type": "code",
   "execution_count": null,
   "id": "54fc7db8",
   "metadata": {},
   "outputs": [],
   "source": []
  }
 ],
 "metadata": {
  "kernelspec": {
   "display_name": "Python 3 (ipykernel)",
   "language": "python",
   "name": "python3"
  },
  "language_info": {
   "codemirror_mode": {
    "name": "ipython",
    "version": 3
   },
   "file_extension": ".py",
   "mimetype": "text/x-python",
   "name": "python",
   "nbconvert_exporter": "python",
   "pygments_lexer": "ipython3",
   "version": "3.9.7"
  }
 },
 "nbformat": 4,
 "nbformat_minor": 5
}
