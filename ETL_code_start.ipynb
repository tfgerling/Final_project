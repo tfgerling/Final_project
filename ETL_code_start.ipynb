{
 "cells": [
  {
   "cell_type": "markdown",
   "id": "0ab9a901",
   "metadata": {},
   "source": [
    "# ETL code for DASS database"
   ]
  },
  {
   "cell_type": "code",
   "execution_count": 1,
   "id": "5658887a",
   "metadata": {},
   "outputs": [],
   "source": [
    "#Setting dependencies\n",
    "\n",
    "import numpy as np\n",
    "import pandas as pd\n",
    "\n",
    "from sklearn.preprocessing import LabelEncoder\n",
    "\n",
    "#Import the python driver for PostgreSQL\n",
    "import psycopg2\n",
    "from passwords import password"
   ]
  },
  {
   "cell_type": "markdown",
   "id": "d8442a27",
   "metadata": {},
   "source": [
    "### Read the csv file created during pre-processing"
   ]
  },
  {
   "cell_type": "code",
   "execution_count": 2,
   "id": "6ee8eba5",
   "metadata": {},
   "outputs": [],
   "source": [
    "df = pd.read_csv('dass.csv')"
   ]
  },
  {
   "cell_type": "code",
   "execution_count": 3,
   "id": "5f3d4ca0",
   "metadata": {},
   "outputs": [
    {
     "name": "stdout",
     "output_type": "stream",
     "text": [
      "<class 'pandas.core.frame.DataFrame'>\n",
      "RangeIndex: 39737 entries, 0 to 39736\n",
      "Data columns (total 34 columns):\n",
      " #   Column          Non-Null Count  Dtype  \n",
      "---  ------          --------------  -----  \n",
      " 0   country         39737 non-null  object \n",
      " 1   tipi1           39737 non-null  int64  \n",
      " 2   tipi2           39737 non-null  int64  \n",
      " 3   tipi3           39737 non-null  int64  \n",
      " 4   tipi4           39737 non-null  int64  \n",
      " 5   tipi5           39737 non-null  int64  \n",
      " 6   tipi6           39737 non-null  int64  \n",
      " 7   tipi7           39737 non-null  int64  \n",
      " 8   tipi8           39737 non-null  int64  \n",
      " 9   tipi9           39737 non-null  int64  \n",
      " 10  tipi10          39737 non-null  int64  \n",
      " 11  education       39737 non-null  int64  \n",
      " 12  urban           39737 non-null  int64  \n",
      " 13  gender          39737 non-null  int64  \n",
      " 14  engnat          39737 non-null  int64  \n",
      " 15  age_group       39737 non-null  object \n",
      " 16  age             39737 non-null  float64\n",
      " 17  hand            39737 non-null  int64  \n",
      " 18  religion        39737 non-null  int64  \n",
      " 19  orientation     39737 non-null  int64  \n",
      " 20  race            39737 non-null  int64  \n",
      " 21  voted           39737 non-null  int64  \n",
      " 22  married         39737 non-null  int64  \n",
      " 23  familysize      39737 non-null  int64  \n",
      " 24  major           39737 non-null  object \n",
      " 25  Depression      39737 non-null  int64  \n",
      " 26  Depression_cat  39737 non-null  int64  \n",
      " 27  Anxiety         39737 non-null  int64  \n",
      " 28  Anxiety_cat     39737 non-null  int64  \n",
      " 29  Stress          39737 non-null  int64  \n",
      " 30  Stress_cat      39737 non-null  int64  \n",
      " 31  dep_cond        39737 non-null  object \n",
      " 32  anx_cond        39737 non-null  object \n",
      " 33  str_cond        39737 non-null  object \n",
      "dtypes: float64(1), int64(27), object(6)\n",
      "memory usage: 10.3+ MB\n"
     ]
    }
   ],
   "source": [
    "# check the dataframe to ensure it's as expected\n",
    "df.info()"
   ]
  },
  {
   "cell_type": "code",
   "execution_count": 4,
   "id": "a39d1cca",
   "metadata": {},
   "outputs": [
    {
     "data": {
      "text/html": [
       "<div>\n",
       "<style scoped>\n",
       "    .dataframe tbody tr th:only-of-type {\n",
       "        vertical-align: middle;\n",
       "    }\n",
       "\n",
       "    .dataframe tbody tr th {\n",
       "        vertical-align: top;\n",
       "    }\n",
       "\n",
       "    .dataframe thead th {\n",
       "        text-align: right;\n",
       "    }\n",
       "</style>\n",
       "<table border=\"1\" class=\"dataframe\">\n",
       "  <thead>\n",
       "    <tr style=\"text-align: right;\">\n",
       "      <th></th>\n",
       "      <th>country</th>\n",
       "      <th>tipi1</th>\n",
       "      <th>tipi2</th>\n",
       "      <th>tipi3</th>\n",
       "      <th>tipi4</th>\n",
       "      <th>tipi5</th>\n",
       "      <th>tipi6</th>\n",
       "      <th>tipi7</th>\n",
       "      <th>tipi8</th>\n",
       "      <th>tipi9</th>\n",
       "      <th>...</th>\n",
       "      <th>major</th>\n",
       "      <th>Depression</th>\n",
       "      <th>Depression_cat</th>\n",
       "      <th>Anxiety</th>\n",
       "      <th>Anxiety_cat</th>\n",
       "      <th>Stress</th>\n",
       "      <th>Stress_cat</th>\n",
       "      <th>dep_cond</th>\n",
       "      <th>anx_cond</th>\n",
       "      <th>str_cond</th>\n",
       "    </tr>\n",
       "  </thead>\n",
       "  <tbody>\n",
       "    <tr>\n",
       "      <th>0</th>\n",
       "      <td>IN</td>\n",
       "      <td>1</td>\n",
       "      <td>5</td>\n",
       "      <td>7</td>\n",
       "      <td>7</td>\n",
       "      <td>7</td>\n",
       "      <td>7</td>\n",
       "      <td>7</td>\n",
       "      <td>5</td>\n",
       "      <td>1</td>\n",
       "      <td>...</td>\n",
       "      <td>No Degree</td>\n",
       "      <td>27</td>\n",
       "      <td>3</td>\n",
       "      <td>34</td>\n",
       "      <td>4</td>\n",
       "      <td>40</td>\n",
       "      <td>4</td>\n",
       "      <td>3 Severe</td>\n",
       "      <td>4 Extremely Severe</td>\n",
       "      <td>4 Extremely Severe</td>\n",
       "    </tr>\n",
       "    <tr>\n",
       "      <th>1</th>\n",
       "      <td>US</td>\n",
       "      <td>6</td>\n",
       "      <td>5</td>\n",
       "      <td>4</td>\n",
       "      <td>7</td>\n",
       "      <td>5</td>\n",
       "      <td>4</td>\n",
       "      <td>7</td>\n",
       "      <td>7</td>\n",
       "      <td>1</td>\n",
       "      <td>...</td>\n",
       "      <td>No Degree</td>\n",
       "      <td>24</td>\n",
       "      <td>3</td>\n",
       "      <td>17</td>\n",
       "      <td>3</td>\n",
       "      <td>27</td>\n",
       "      <td>3</td>\n",
       "      <td>3 Severe</td>\n",
       "      <td>3 Severe</td>\n",
       "      <td>3 Severe</td>\n",
       "    </tr>\n",
       "    <tr>\n",
       "      <th>2</th>\n",
       "      <td>PL</td>\n",
       "      <td>2</td>\n",
       "      <td>5</td>\n",
       "      <td>2</td>\n",
       "      <td>2</td>\n",
       "      <td>5</td>\n",
       "      <td>6</td>\n",
       "      <td>5</td>\n",
       "      <td>5</td>\n",
       "      <td>3</td>\n",
       "      <td>...</td>\n",
       "      <td>No Degree</td>\n",
       "      <td>39</td>\n",
       "      <td>4</td>\n",
       "      <td>12</td>\n",
       "      <td>2</td>\n",
       "      <td>17</td>\n",
       "      <td>1</td>\n",
       "      <td>4 Extremely Severe</td>\n",
       "      <td>2 Moderate</td>\n",
       "      <td>1 Mild</td>\n",
       "    </tr>\n",
       "    <tr>\n",
       "      <th>3</th>\n",
       "      <td>US</td>\n",
       "      <td>1</td>\n",
       "      <td>1</td>\n",
       "      <td>7</td>\n",
       "      <td>4</td>\n",
       "      <td>6</td>\n",
       "      <td>4</td>\n",
       "      <td>6</td>\n",
       "      <td>1</td>\n",
       "      <td>6</td>\n",
       "      <td>...</td>\n",
       "      <td>Biology</td>\n",
       "      <td>16</td>\n",
       "      <td>2</td>\n",
       "      <td>17</td>\n",
       "      <td>3</td>\n",
       "      <td>16</td>\n",
       "      <td>1</td>\n",
       "      <td>2 Moderate</td>\n",
       "      <td>3 Severe</td>\n",
       "      <td>1 Mild</td>\n",
       "    </tr>\n",
       "    <tr>\n",
       "      <th>4</th>\n",
       "      <td>MY</td>\n",
       "      <td>2</td>\n",
       "      <td>5</td>\n",
       "      <td>3</td>\n",
       "      <td>6</td>\n",
       "      <td>5</td>\n",
       "      <td>5</td>\n",
       "      <td>5</td>\n",
       "      <td>6</td>\n",
       "      <td>3</td>\n",
       "      <td>...</td>\n",
       "      <td>Psychology</td>\n",
       "      <td>32</td>\n",
       "      <td>4</td>\n",
       "      <td>40</td>\n",
       "      <td>4</td>\n",
       "      <td>29</td>\n",
       "      <td>3</td>\n",
       "      <td>4 Extremely Severe</td>\n",
       "      <td>4 Extremely Severe</td>\n",
       "      <td>3 Severe</td>\n",
       "    </tr>\n",
       "  </tbody>\n",
       "</table>\n",
       "<p>5 rows × 34 columns</p>\n",
       "</div>"
      ],
      "text/plain": [
       "  country  tipi1  tipi2  tipi3  tipi4  tipi5  tipi6  tipi7  tipi8  tipi9  ...  \\\n",
       "0      IN      1      5      7      7      7      7      7      5      1  ...   \n",
       "1      US      6      5      4      7      5      4      7      7      1  ...   \n",
       "2      PL      2      5      2      2      5      6      5      5      3  ...   \n",
       "3      US      1      1      7      4      6      4      6      1      6  ...   \n",
       "4      MY      2      5      3      6      5      5      5      6      3  ...   \n",
       "\n",
       "        major  Depression  Depression_cat  Anxiety  Anxiety_cat Stress  \\\n",
       "0   No Degree          27               3       34            4     40   \n",
       "1   No Degree          24               3       17            3     27   \n",
       "2   No Degree          39               4       12            2     17   \n",
       "3     Biology          16               2       17            3     16   \n",
       "4  Psychology          32               4       40            4     29   \n",
       "\n",
       "   Stress_cat            dep_cond            anx_cond            str_cond  \n",
       "0           4            3 Severe  4 Extremely Severe  4 Extremely Severe  \n",
       "1           3            3 Severe            3 Severe            3 Severe  \n",
       "2           1  4 Extremely Severe          2 Moderate              1 Mild  \n",
       "3           1          2 Moderate            3 Severe              1 Mild  \n",
       "4           3  4 Extremely Severe  4 Extremely Severe            3 Severe  \n",
       "\n",
       "[5 rows x 34 columns]"
      ]
     },
     "execution_count": 4,
     "metadata": {},
     "output_type": "execute_result"
    }
   ],
   "source": [
    "# print the head to see the data\n",
    "df.head()"
   ]
  },
  {
   "cell_type": "markdown",
   "id": "dcf387f3",
   "metadata": {},
   "source": [
    "Create keys for each planned table and write each table out to a separate csv file."
   ]
  },
  {
   "cell_type": "code",
   "execution_count": 5,
   "id": "d29e66fa",
   "metadata": {},
   "outputs": [],
   "source": [
    "class_labels = LabelEncoder()"
   ]
  },
  {
   "cell_type": "code",
   "execution_count": 6,
   "id": "47489dfd",
   "metadata": {},
   "outputs": [],
   "source": [
    "df['age_grp_id'] = class_labels.fit_transform(df['age_group'].values)"
   ]
  },
  {
   "cell_type": "code",
   "execution_count": 7,
   "id": "a3375034",
   "metadata": {},
   "outputs": [],
   "source": [
    "# create a function for making ids for the tables. A new column is added to the dataframe when this is called\n",
    "\n",
    "def make_id(df):\n",
    "    str_id = df.apply(lambda x: '_'.join(map(str, x)), axis=1)\n",
    "    return pd.factorize(str_id)[0]\n",
    "\n",
    "df['person_id'] = make_id(df)"
   ]
  },
  {
   "cell_type": "markdown",
   "id": "e7e58297",
   "metadata": {},
   "source": [
    "Verify person_id is unique"
   ]
  },
  {
   "cell_type": "code",
   "execution_count": 8,
   "id": "fd238f5b",
   "metadata": {},
   "outputs": [
    {
     "data": {
      "text/plain": [
       "0        1\n",
       "26494    1\n",
       "26487    1\n",
       "26488    1\n",
       "26489    1\n",
       "        ..\n",
       "13247    1\n",
       "13248    1\n",
       "13249    1\n",
       "13250    1\n",
       "39736    1\n",
       "Name: person_id, Length: 39737, dtype: int64"
      ]
     },
     "execution_count": 8,
     "metadata": {},
     "output_type": "execute_result"
    }
   ],
   "source": [
    "df['person_id'].value_counts()"
   ]
  },
  {
   "cell_type": "code",
   "execution_count": 9,
   "id": "1e7ab43e",
   "metadata": {},
   "outputs": [
    {
     "name": "stdout",
     "output_type": "stream",
     "text": [
      "<class 'pandas.core.frame.DataFrame'>\n",
      "RangeIndex: 39737 entries, 0 to 39736\n",
      "Data columns (total 36 columns):\n",
      " #   Column          Non-Null Count  Dtype  \n",
      "---  ------          --------------  -----  \n",
      " 0   country         39737 non-null  object \n",
      " 1   tipi1           39737 non-null  int64  \n",
      " 2   tipi2           39737 non-null  int64  \n",
      " 3   tipi3           39737 non-null  int64  \n",
      " 4   tipi4           39737 non-null  int64  \n",
      " 5   tipi5           39737 non-null  int64  \n",
      " 6   tipi6           39737 non-null  int64  \n",
      " 7   tipi7           39737 non-null  int64  \n",
      " 8   tipi8           39737 non-null  int64  \n",
      " 9   tipi9           39737 non-null  int64  \n",
      " 10  tipi10          39737 non-null  int64  \n",
      " 11  education       39737 non-null  int64  \n",
      " 12  urban           39737 non-null  int64  \n",
      " 13  gender          39737 non-null  int64  \n",
      " 14  engnat          39737 non-null  int64  \n",
      " 15  age_group       39737 non-null  object \n",
      " 16  age             39737 non-null  float64\n",
      " 17  hand            39737 non-null  int64  \n",
      " 18  religion        39737 non-null  int64  \n",
      " 19  orientation     39737 non-null  int64  \n",
      " 20  race            39737 non-null  int64  \n",
      " 21  voted           39737 non-null  int64  \n",
      " 22  married         39737 non-null  int64  \n",
      " 23  familysize      39737 non-null  int64  \n",
      " 24  major           39737 non-null  object \n",
      " 25  Depression      39737 non-null  int64  \n",
      " 26  Depression_cat  39737 non-null  int64  \n",
      " 27  Anxiety         39737 non-null  int64  \n",
      " 28  Anxiety_cat     39737 non-null  int64  \n",
      " 29  Stress          39737 non-null  int64  \n",
      " 30  Stress_cat      39737 non-null  int64  \n",
      " 31  dep_cond        39737 non-null  object \n",
      " 32  anx_cond        39737 non-null  object \n",
      " 33  str_cond        39737 non-null  object \n",
      " 34  age_grp_id      39737 non-null  int32  \n",
      " 35  person_id       39737 non-null  int64  \n",
      "dtypes: float64(1), int32(1), int64(28), object(6)\n",
      "memory usage: 10.8+ MB\n"
     ]
    }
   ],
   "source": [
    "df.info()"
   ]
  },
  {
   "cell_type": "markdown",
   "id": "d00ff092",
   "metadata": {},
   "source": [
    "Use LabelEncoder to create loc id based on combination of data that will be part of the location info table."
   ]
  },
  {
   "cell_type": "code",
   "execution_count": 10,
   "id": "42f458d5",
   "metadata": {},
   "outputs": [],
   "source": [
    "df['loc_info'] = df['urban'].astype(str) + df['country'] + df['person_id'].astype(str)\n",
    "df['loc_id'] = class_labels.fit_transform(df['loc_info'].values)\n"
   ]
  },
  {
   "cell_type": "markdown",
   "id": "e7caade7",
   "metadata": {},
   "source": [
    "Call the make_id function to create a dass id, temper id, and educ_id"
   ]
  },
  {
   "cell_type": "code",
   "execution_count": 11,
   "id": "fb0d6e81",
   "metadata": {},
   "outputs": [],
   "source": [
    "df['dass_id'] = make_id(df[['Depression', 'Anxiety', 'Stress', 'person_id']])"
   ]
  },
  {
   "cell_type": "code",
   "execution_count": 12,
   "id": "3cc8bb00",
   "metadata": {},
   "outputs": [
    {
     "data": {
      "text/plain": [
       "0        1\n",
       "26494    1\n",
       "26487    1\n",
       "26488    1\n",
       "26489    1\n",
       "        ..\n",
       "13247    1\n",
       "13248    1\n",
       "13249    1\n",
       "13250    1\n",
       "39736    1\n",
       "Name: dass_id, Length: 39737, dtype: int64"
      ]
     },
     "execution_count": 12,
     "metadata": {},
     "output_type": "execute_result"
    }
   ],
   "source": [
    "df['dass_id'].value_counts()"
   ]
  },
  {
   "cell_type": "code",
   "execution_count": 13,
   "id": "abff0754",
   "metadata": {},
   "outputs": [],
   "source": [
    "df['temper_id'] = make_id(df[['tipi1', 'tipi2', 'tipi3', 'tipi4', 'tipi5', 'tipi6', 'tipi7', 'tipi8', 'tipi9','tipi10','person_id']])"
   ]
  },
  {
   "cell_type": "code",
   "execution_count": 14,
   "id": "644878fa",
   "metadata": {},
   "outputs": [
    {
     "data": {
      "text/plain": [
       "0        1\n",
       "26494    1\n",
       "26487    1\n",
       "26488    1\n",
       "26489    1\n",
       "        ..\n",
       "13247    1\n",
       "13248    1\n",
       "13249    1\n",
       "13250    1\n",
       "39736    1\n",
       "Name: temper_id, Length: 39737, dtype: int64"
      ]
     },
     "execution_count": 14,
     "metadata": {},
     "output_type": "execute_result"
    }
   ],
   "source": [
    "df['temper_id'].value_counts()"
   ]
  },
  {
   "cell_type": "code",
   "execution_count": 15,
   "id": "4ed3af36",
   "metadata": {},
   "outputs": [],
   "source": [
    "df['educ_id'] = make_id(df[['education', 'major', 'person_id']])"
   ]
  },
  {
   "cell_type": "code",
   "execution_count": 16,
   "id": "151ca260",
   "metadata": {},
   "outputs": [
    {
     "data": {
      "text/plain": [
       "0        1\n",
       "26494    1\n",
       "26487    1\n",
       "26488    1\n",
       "26489    1\n",
       "        ..\n",
       "13247    1\n",
       "13248    1\n",
       "13249    1\n",
       "13250    1\n",
       "39736    1\n",
       "Name: educ_id, Length: 39737, dtype: int64"
      ]
     },
     "execution_count": 16,
     "metadata": {},
     "output_type": "execute_result"
    }
   ],
   "source": [
    "df['educ_id'].value_counts()"
   ]
  },
  {
   "cell_type": "markdown",
   "id": "6143e256",
   "metadata": {},
   "source": [
    "Remove interim column now that the key was created"
   ]
  },
  {
   "cell_type": "code",
   "execution_count": 17,
   "id": "4f6aed4a",
   "metadata": {},
   "outputs": [],
   "source": [
    "df.drop(['loc_info'], axis='columns', inplace=True)"
   ]
  },
  {
   "cell_type": "code",
   "execution_count": 18,
   "id": "8d1f169a",
   "metadata": {},
   "outputs": [],
   "source": [
    "person_df = df.filter(['person_id','gender','race', 'orientation', 'married', 'hand', 'familysize', 'engnat', 'age_grp_id'], axis=1)\n",
    "age_grp_df = df.filter(['age_grp_id', 'age_group'], axis=1)\n",
    "loc_info_df = df.filter(['loc_id', 'urban', 'country', 'person_id'], axis=1)\n",
    "dass_info_df = df.filter(['dass_id', 'Depression', 'Depression_cat', 'Anxiety', 'Anxiety_cat', 'Stress', 'Stress_cat', 'person_id'], axis=1)\n",
    "temper_info_df = df.filter(['temper_id', 'tipi1', 'tipi2', 'tipi3', 'tipi4', 'tipi5', 'tipi6', 'tipi7', 'tipi8', 'tipi9','tipi10','person_id'],axis=1)\n",
    "educ_info_df = df.filter(['educ_id','education', 'major', 'person_id'], axis=1)"
   ]
  },
  {
   "cell_type": "markdown",
   "id": "3355a1a1",
   "metadata": {},
   "source": [
    "Check each one to make sure data looks good"
   ]
  },
  {
   "cell_type": "code",
   "execution_count": 19,
   "id": "65927b04",
   "metadata": {},
   "outputs": [
    {
     "data": {
      "text/html": [
       "<div>\n",
       "<style scoped>\n",
       "    .dataframe tbody tr th:only-of-type {\n",
       "        vertical-align: middle;\n",
       "    }\n",
       "\n",
       "    .dataframe tbody tr th {\n",
       "        vertical-align: top;\n",
       "    }\n",
       "\n",
       "    .dataframe thead th {\n",
       "        text-align: right;\n",
       "    }\n",
       "</style>\n",
       "<table border=\"1\" class=\"dataframe\">\n",
       "  <thead>\n",
       "    <tr style=\"text-align: right;\">\n",
       "      <th></th>\n",
       "      <th>person_id</th>\n",
       "      <th>gender</th>\n",
       "      <th>race</th>\n",
       "      <th>orientation</th>\n",
       "      <th>married</th>\n",
       "      <th>hand</th>\n",
       "      <th>familysize</th>\n",
       "      <th>engnat</th>\n",
       "      <th>age_grp_id</th>\n",
       "    </tr>\n",
       "  </thead>\n",
       "  <tbody>\n",
       "    <tr>\n",
       "      <th>0</th>\n",
       "      <td>0</td>\n",
       "      <td>2</td>\n",
       "      <td>10</td>\n",
       "      <td>1</td>\n",
       "      <td>1</td>\n",
       "      <td>1</td>\n",
       "      <td>2</td>\n",
       "      <td>2</td>\n",
       "      <td>0</td>\n",
       "    </tr>\n",
       "    <tr>\n",
       "      <th>1</th>\n",
       "      <td>1</td>\n",
       "      <td>2</td>\n",
       "      <td>70</td>\n",
       "      <td>5</td>\n",
       "      <td>1</td>\n",
       "      <td>2</td>\n",
       "      <td>4</td>\n",
       "      <td>1</td>\n",
       "      <td>0</td>\n",
       "    </tr>\n",
       "    <tr>\n",
       "      <th>2</th>\n",
       "      <td>2</td>\n",
       "      <td>2</td>\n",
       "      <td>60</td>\n",
       "      <td>3</td>\n",
       "      <td>1</td>\n",
       "      <td>1</td>\n",
       "      <td>3</td>\n",
       "      <td>2</td>\n",
       "      <td>0</td>\n",
       "    </tr>\n",
       "    <tr>\n",
       "      <th>3</th>\n",
       "      <td>3</td>\n",
       "      <td>2</td>\n",
       "      <td>70</td>\n",
       "      <td>5</td>\n",
       "      <td>1</td>\n",
       "      <td>2</td>\n",
       "      <td>5</td>\n",
       "      <td>1</td>\n",
       "      <td>0</td>\n",
       "    </tr>\n",
       "    <tr>\n",
       "      <th>4</th>\n",
       "      <td>4</td>\n",
       "      <td>2</td>\n",
       "      <td>10</td>\n",
       "      <td>1</td>\n",
       "      <td>1</td>\n",
       "      <td>3</td>\n",
       "      <td>4</td>\n",
       "      <td>2</td>\n",
       "      <td>0</td>\n",
       "    </tr>\n",
       "  </tbody>\n",
       "</table>\n",
       "</div>"
      ],
      "text/plain": [
       "   person_id  gender  race  orientation  married  hand  familysize  engnat  \\\n",
       "0          0       2    10            1        1     1           2       2   \n",
       "1          1       2    70            5        1     2           4       1   \n",
       "2          2       2    60            3        1     1           3       2   \n",
       "3          3       2    70            5        1     2           5       1   \n",
       "4          4       2    10            1        1     3           4       2   \n",
       "\n",
       "   age_grp_id  \n",
       "0           0  \n",
       "1           0  \n",
       "2           0  \n",
       "3           0  \n",
       "4           0  "
      ]
     },
     "execution_count": 19,
     "metadata": {},
     "output_type": "execute_result"
    }
   ],
   "source": [
    "person_df.head()"
   ]
  },
  {
   "cell_type": "code",
   "execution_count": 20,
   "id": "02c048ea",
   "metadata": {},
   "outputs": [
    {
     "data": {
      "text/html": [
       "<div>\n",
       "<style scoped>\n",
       "    .dataframe tbody tr th:only-of-type {\n",
       "        vertical-align: middle;\n",
       "    }\n",
       "\n",
       "    .dataframe tbody tr th {\n",
       "        vertical-align: top;\n",
       "    }\n",
       "\n",
       "    .dataframe thead th {\n",
       "        text-align: right;\n",
       "    }\n",
       "</style>\n",
       "<table border=\"1\" class=\"dataframe\">\n",
       "  <thead>\n",
       "    <tr style=\"text-align: right;\">\n",
       "      <th></th>\n",
       "      <th>age_grp_id</th>\n",
       "      <th>age_group</th>\n",
       "    </tr>\n",
       "  </thead>\n",
       "  <tbody>\n",
       "    <tr>\n",
       "      <th>0</th>\n",
       "      <td>0</td>\n",
       "      <td>0-20</td>\n",
       "    </tr>\n",
       "    <tr>\n",
       "      <th>1</th>\n",
       "      <td>0</td>\n",
       "      <td>0-20</td>\n",
       "    </tr>\n",
       "    <tr>\n",
       "      <th>2</th>\n",
       "      <td>0</td>\n",
       "      <td>0-20</td>\n",
       "    </tr>\n",
       "    <tr>\n",
       "      <th>3</th>\n",
       "      <td>0</td>\n",
       "      <td>0-20</td>\n",
       "    </tr>\n",
       "    <tr>\n",
       "      <th>4</th>\n",
       "      <td>0</td>\n",
       "      <td>0-20</td>\n",
       "    </tr>\n",
       "  </tbody>\n",
       "</table>\n",
       "</div>"
      ],
      "text/plain": [
       "   age_grp_id age_group\n",
       "0           0      0-20\n",
       "1           0      0-20\n",
       "2           0      0-20\n",
       "3           0      0-20\n",
       "4           0      0-20"
      ]
     },
     "execution_count": 20,
     "metadata": {},
     "output_type": "execute_result"
    }
   ],
   "source": [
    "age_grp_df.head()"
   ]
  },
  {
   "cell_type": "code",
   "execution_count": 21,
   "id": "59719327",
   "metadata": {},
   "outputs": [
    {
     "data": {
      "text/plain": [
       "age_grp_id  age_group\n",
       "1           20-24        14766\n",
       "0           0-20         13820\n",
       "2           25-29         5439\n",
       "3           30-34         2194\n",
       "5           40-49         1321\n",
       "4           35-39         1138\n",
       "6           50-59          764\n",
       "7           60 & over      295\n",
       "dtype: int64"
      ]
     },
     "execution_count": 21,
     "metadata": {},
     "output_type": "execute_result"
    }
   ],
   "source": [
    "age_grp_df.value_counts()"
   ]
  },
  {
   "cell_type": "markdown",
   "id": "fed53009",
   "metadata": {},
   "source": [
    "There are duplicates in the age_grp_df since it is a domain table - will be dropping the duplicates"
   ]
  },
  {
   "cell_type": "code",
   "execution_count": 22,
   "id": "4adc00dc",
   "metadata": {},
   "outputs": [],
   "source": [
    "age_grp_df=age_grp_df.drop_duplicates()"
   ]
  },
  {
   "cell_type": "code",
   "execution_count": 23,
   "id": "a7eedeff",
   "metadata": {},
   "outputs": [
    {
     "data": {
      "text/plain": [
       "age_grp_id  age_group\n",
       "0           0-20         1\n",
       "1           20-24        1\n",
       "2           25-29        1\n",
       "3           30-34        1\n",
       "4           35-39        1\n",
       "5           40-49        1\n",
       "6           50-59        1\n",
       "7           60 & over    1\n",
       "dtype: int64"
      ]
     },
     "execution_count": 23,
     "metadata": {},
     "output_type": "execute_result"
    }
   ],
   "source": [
    "age_grp_df.value_counts()"
   ]
  },
  {
   "cell_type": "code",
   "execution_count": 24,
   "id": "25cb0f75",
   "metadata": {},
   "outputs": [
    {
     "data": {
      "text/html": [
       "<div>\n",
       "<style scoped>\n",
       "    .dataframe tbody tr th:only-of-type {\n",
       "        vertical-align: middle;\n",
       "    }\n",
       "\n",
       "    .dataframe tbody tr th {\n",
       "        vertical-align: top;\n",
       "    }\n",
       "\n",
       "    .dataframe thead th {\n",
       "        text-align: right;\n",
       "    }\n",
       "</style>\n",
       "<table border=\"1\" class=\"dataframe\">\n",
       "  <thead>\n",
       "    <tr style=\"text-align: right;\">\n",
       "      <th></th>\n",
       "      <th>loc_id</th>\n",
       "      <th>urban</th>\n",
       "      <th>country</th>\n",
       "      <th>person_id</th>\n",
       "    </tr>\n",
       "  </thead>\n",
       "  <tbody>\n",
       "    <tr>\n",
       "      <th>0</th>\n",
       "      <td>24673</td>\n",
       "      <td>3</td>\n",
       "      <td>IN</td>\n",
       "      <td>0</td>\n",
       "    </tr>\n",
       "    <tr>\n",
       "      <th>1</th>\n",
       "      <td>36868</td>\n",
       "      <td>3</td>\n",
       "      <td>US</td>\n",
       "      <td>1</td>\n",
       "    </tr>\n",
       "    <tr>\n",
       "      <th>2</th>\n",
       "      <td>36113</td>\n",
       "      <td>3</td>\n",
       "      <td>PL</td>\n",
       "      <td>2</td>\n",
       "    </tr>\n",
       "    <tr>\n",
       "      <th>3</th>\n",
       "      <td>38555</td>\n",
       "      <td>3</td>\n",
       "      <td>US</td>\n",
       "      <td>3</td>\n",
       "    </tr>\n",
       "    <tr>\n",
       "      <th>4</th>\n",
       "      <td>16345</td>\n",
       "      <td>2</td>\n",
       "      <td>MY</td>\n",
       "      <td>4</td>\n",
       "    </tr>\n",
       "  </tbody>\n",
       "</table>\n",
       "</div>"
      ],
      "text/plain": [
       "   loc_id  urban country  person_id\n",
       "0   24673      3      IN          0\n",
       "1   36868      3      US          1\n",
       "2   36113      3      PL          2\n",
       "3   38555      3      US          3\n",
       "4   16345      2      MY          4"
      ]
     },
     "execution_count": 24,
     "metadata": {},
     "output_type": "execute_result"
    }
   ],
   "source": [
    "loc_info_df.head()"
   ]
  },
  {
   "cell_type": "code",
   "execution_count": 25,
   "id": "b4251cff",
   "metadata": {},
   "outputs": [
    {
     "data": {
      "text/html": [
       "<div>\n",
       "<style scoped>\n",
       "    .dataframe tbody tr th:only-of-type {\n",
       "        vertical-align: middle;\n",
       "    }\n",
       "\n",
       "    .dataframe tbody tr th {\n",
       "        vertical-align: top;\n",
       "    }\n",
       "\n",
       "    .dataframe thead th {\n",
       "        text-align: right;\n",
       "    }\n",
       "</style>\n",
       "<table border=\"1\" class=\"dataframe\">\n",
       "  <thead>\n",
       "    <tr style=\"text-align: right;\">\n",
       "      <th></th>\n",
       "      <th>dass_id</th>\n",
       "      <th>Depression</th>\n",
       "      <th>Depression_cat</th>\n",
       "      <th>Anxiety</th>\n",
       "      <th>Anxiety_cat</th>\n",
       "      <th>Stress</th>\n",
       "      <th>Stress_cat</th>\n",
       "      <th>person_id</th>\n",
       "    </tr>\n",
       "  </thead>\n",
       "  <tbody>\n",
       "    <tr>\n",
       "      <th>0</th>\n",
       "      <td>0</td>\n",
       "      <td>27</td>\n",
       "      <td>3</td>\n",
       "      <td>34</td>\n",
       "      <td>4</td>\n",
       "      <td>40</td>\n",
       "      <td>4</td>\n",
       "      <td>0</td>\n",
       "    </tr>\n",
       "    <tr>\n",
       "      <th>1</th>\n",
       "      <td>1</td>\n",
       "      <td>24</td>\n",
       "      <td>3</td>\n",
       "      <td>17</td>\n",
       "      <td>3</td>\n",
       "      <td>27</td>\n",
       "      <td>3</td>\n",
       "      <td>1</td>\n",
       "    </tr>\n",
       "    <tr>\n",
       "      <th>2</th>\n",
       "      <td>2</td>\n",
       "      <td>39</td>\n",
       "      <td>4</td>\n",
       "      <td>12</td>\n",
       "      <td>2</td>\n",
       "      <td>17</td>\n",
       "      <td>1</td>\n",
       "      <td>2</td>\n",
       "    </tr>\n",
       "    <tr>\n",
       "      <th>3</th>\n",
       "      <td>3</td>\n",
       "      <td>16</td>\n",
       "      <td>2</td>\n",
       "      <td>17</td>\n",
       "      <td>3</td>\n",
       "      <td>16</td>\n",
       "      <td>1</td>\n",
       "      <td>3</td>\n",
       "    </tr>\n",
       "    <tr>\n",
       "      <th>4</th>\n",
       "      <td>4</td>\n",
       "      <td>32</td>\n",
       "      <td>4</td>\n",
       "      <td>40</td>\n",
       "      <td>4</td>\n",
       "      <td>29</td>\n",
       "      <td>3</td>\n",
       "      <td>4</td>\n",
       "    </tr>\n",
       "  </tbody>\n",
       "</table>\n",
       "</div>"
      ],
      "text/plain": [
       "   dass_id  Depression  Depression_cat  Anxiety  Anxiety_cat  Stress  \\\n",
       "0        0          27               3       34            4      40   \n",
       "1        1          24               3       17            3      27   \n",
       "2        2          39               4       12            2      17   \n",
       "3        3          16               2       17            3      16   \n",
       "4        4          32               4       40            4      29   \n",
       "\n",
       "   Stress_cat  person_id  \n",
       "0           4          0  \n",
       "1           3          1  \n",
       "2           1          2  \n",
       "3           1          3  \n",
       "4           3          4  "
      ]
     },
     "execution_count": 25,
     "metadata": {},
     "output_type": "execute_result"
    }
   ],
   "source": [
    "dass_info_df.head()"
   ]
  },
  {
   "cell_type": "code",
   "execution_count": 26,
   "id": "f90eeccd",
   "metadata": {},
   "outputs": [
    {
     "data": {
      "text/html": [
       "<div>\n",
       "<style scoped>\n",
       "    .dataframe tbody tr th:only-of-type {\n",
       "        vertical-align: middle;\n",
       "    }\n",
       "\n",
       "    .dataframe tbody tr th {\n",
       "        vertical-align: top;\n",
       "    }\n",
       "\n",
       "    .dataframe thead th {\n",
       "        text-align: right;\n",
       "    }\n",
       "</style>\n",
       "<table border=\"1\" class=\"dataframe\">\n",
       "  <thead>\n",
       "    <tr style=\"text-align: right;\">\n",
       "      <th></th>\n",
       "      <th>temper_id</th>\n",
       "      <th>tipi1</th>\n",
       "      <th>tipi2</th>\n",
       "      <th>tipi3</th>\n",
       "      <th>tipi4</th>\n",
       "      <th>tipi5</th>\n",
       "      <th>tipi6</th>\n",
       "      <th>tipi7</th>\n",
       "      <th>tipi8</th>\n",
       "      <th>tipi9</th>\n",
       "      <th>tipi10</th>\n",
       "      <th>person_id</th>\n",
       "    </tr>\n",
       "  </thead>\n",
       "  <tbody>\n",
       "    <tr>\n",
       "      <th>0</th>\n",
       "      <td>0</td>\n",
       "      <td>1</td>\n",
       "      <td>5</td>\n",
       "      <td>7</td>\n",
       "      <td>7</td>\n",
       "      <td>7</td>\n",
       "      <td>7</td>\n",
       "      <td>7</td>\n",
       "      <td>5</td>\n",
       "      <td>1</td>\n",
       "      <td>1</td>\n",
       "      <td>0</td>\n",
       "    </tr>\n",
       "    <tr>\n",
       "      <th>1</th>\n",
       "      <td>1</td>\n",
       "      <td>6</td>\n",
       "      <td>5</td>\n",
       "      <td>4</td>\n",
       "      <td>7</td>\n",
       "      <td>5</td>\n",
       "      <td>4</td>\n",
       "      <td>7</td>\n",
       "      <td>7</td>\n",
       "      <td>1</td>\n",
       "      <td>5</td>\n",
       "      <td>1</td>\n",
       "    </tr>\n",
       "    <tr>\n",
       "      <th>2</th>\n",
       "      <td>2</td>\n",
       "      <td>2</td>\n",
       "      <td>5</td>\n",
       "      <td>2</td>\n",
       "      <td>2</td>\n",
       "      <td>5</td>\n",
       "      <td>6</td>\n",
       "      <td>5</td>\n",
       "      <td>5</td>\n",
       "      <td>3</td>\n",
       "      <td>2</td>\n",
       "      <td>2</td>\n",
       "    </tr>\n",
       "    <tr>\n",
       "      <th>3</th>\n",
       "      <td>3</td>\n",
       "      <td>1</td>\n",
       "      <td>1</td>\n",
       "      <td>7</td>\n",
       "      <td>4</td>\n",
       "      <td>6</td>\n",
       "      <td>4</td>\n",
       "      <td>6</td>\n",
       "      <td>1</td>\n",
       "      <td>6</td>\n",
       "      <td>1</td>\n",
       "      <td>3</td>\n",
       "    </tr>\n",
       "    <tr>\n",
       "      <th>4</th>\n",
       "      <td>4</td>\n",
       "      <td>2</td>\n",
       "      <td>5</td>\n",
       "      <td>3</td>\n",
       "      <td>6</td>\n",
       "      <td>5</td>\n",
       "      <td>5</td>\n",
       "      <td>5</td>\n",
       "      <td>6</td>\n",
       "      <td>3</td>\n",
       "      <td>3</td>\n",
       "      <td>4</td>\n",
       "    </tr>\n",
       "  </tbody>\n",
       "</table>\n",
       "</div>"
      ],
      "text/plain": [
       "   temper_id  tipi1  tipi2  tipi3  tipi4  tipi5  tipi6  tipi7  tipi8  tipi9  \\\n",
       "0          0      1      5      7      7      7      7      7      5      1   \n",
       "1          1      6      5      4      7      5      4      7      7      1   \n",
       "2          2      2      5      2      2      5      6      5      5      3   \n",
       "3          3      1      1      7      4      6      4      6      1      6   \n",
       "4          4      2      5      3      6      5      5      5      6      3   \n",
       "\n",
       "   tipi10  person_id  \n",
       "0       1          0  \n",
       "1       5          1  \n",
       "2       2          2  \n",
       "3       1          3  \n",
       "4       3          4  "
      ]
     },
     "execution_count": 26,
     "metadata": {},
     "output_type": "execute_result"
    }
   ],
   "source": [
    "temper_info_df.head()"
   ]
  },
  {
   "cell_type": "code",
   "execution_count": 27,
   "id": "1ed265b0",
   "metadata": {},
   "outputs": [
    {
     "data": {
      "text/html": [
       "<div>\n",
       "<style scoped>\n",
       "    .dataframe tbody tr th:only-of-type {\n",
       "        vertical-align: middle;\n",
       "    }\n",
       "\n",
       "    .dataframe tbody tr th {\n",
       "        vertical-align: top;\n",
       "    }\n",
       "\n",
       "    .dataframe thead th {\n",
       "        text-align: right;\n",
       "    }\n",
       "</style>\n",
       "<table border=\"1\" class=\"dataframe\">\n",
       "  <thead>\n",
       "    <tr style=\"text-align: right;\">\n",
       "      <th></th>\n",
       "      <th>educ_id</th>\n",
       "      <th>education</th>\n",
       "      <th>major</th>\n",
       "      <th>person_id</th>\n",
       "    </tr>\n",
       "  </thead>\n",
       "  <tbody>\n",
       "    <tr>\n",
       "      <th>0</th>\n",
       "      <td>0</td>\n",
       "      <td>2</td>\n",
       "      <td>No Degree</td>\n",
       "      <td>0</td>\n",
       "    </tr>\n",
       "    <tr>\n",
       "      <th>1</th>\n",
       "      <td>1</td>\n",
       "      <td>2</td>\n",
       "      <td>No Degree</td>\n",
       "      <td>1</td>\n",
       "    </tr>\n",
       "    <tr>\n",
       "      <th>2</th>\n",
       "      <td>2</td>\n",
       "      <td>2</td>\n",
       "      <td>No Degree</td>\n",
       "      <td>2</td>\n",
       "    </tr>\n",
       "    <tr>\n",
       "      <th>3</th>\n",
       "      <td>3</td>\n",
       "      <td>1</td>\n",
       "      <td>Biology</td>\n",
       "      <td>3</td>\n",
       "    </tr>\n",
       "    <tr>\n",
       "      <th>4</th>\n",
       "      <td>4</td>\n",
       "      <td>3</td>\n",
       "      <td>Psychology</td>\n",
       "      <td>4</td>\n",
       "    </tr>\n",
       "  </tbody>\n",
       "</table>\n",
       "</div>"
      ],
      "text/plain": [
       "   educ_id  education       major  person_id\n",
       "0        0          2   No Degree          0\n",
       "1        1          2   No Degree          1\n",
       "2        2          2   No Degree          2\n",
       "3        3          1     Biology          3\n",
       "4        4          3  Psychology          4"
      ]
     },
     "execution_count": 27,
     "metadata": {},
     "output_type": "execute_result"
    }
   ],
   "source": [
    "educ_info_df.head()"
   ]
  },
  {
   "cell_type": "markdown",
   "id": "d49fffd6",
   "metadata": {},
   "source": [
    "Write each of the new dataframes to csv files."
   ]
  },
  {
   "cell_type": "code",
   "execution_count": 28,
   "id": "da25ea68",
   "metadata": {},
   "outputs": [],
   "source": [
    "person_df.to_csv(\"person.csv\",index=False)\n",
    "age_grp_df.to_csv(\"age_grp.csv\",index=False)\n",
    "loc_info_df.to_csv(\"loc_info.csv\",index=False)\n",
    "dass_info_df.to_csv(\"dass_info.csv\",index=False)\n",
    "temper_info_df.to_csv(\"temper_info.csv\",index=False)\n",
    "educ_info_df.to_csv(\"educ_info.csv\",index=False)"
   ]
  },
  {
   "cell_type": "markdown",
   "id": "b272b577",
   "metadata": {},
   "source": [
    "# Data Model"
   ]
  },
  {
   "attachments": {
    "Data_Model_Final_Project-3.svg": {
     "image/svg+xml": [
      "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"
     ]
    }
   },
   "cell_type": "markdown",
   "id": "4184d3a4",
   "metadata": {},
   "source": [
    "![Data_Model_Final_Project-3.svg](attachment:Data_Model_Final_Project-3.svg)"
   ]
  },
  {
   "cell_type": "markdown",
   "id": "cee306d9",
   "metadata": {},
   "source": [
    "Begin the database work - create the database, then create tables and load them."
   ]
  },
  {
   "cell_type": "markdown",
   "id": "8728a167",
   "metadata": {},
   "source": [
    "# Create database"
   ]
  },
  {
   "cell_type": "code",
   "execution_count": 29,
   "id": "f1d11cf3",
   "metadata": {},
   "outputs": [],
   "source": [
    "import psycopg2\n",
    "\n",
    "from psycopg2.extensions import ISOLATION_LEVEL_AUTOCOMMIT\n",
    "\n",
    " \n",
    "\n",
    "# Connect to PostgreSQL DBMS\n",
    "\n",
    "con = psycopg2.connect(user = \"postgres\", password = password);\n",
    "\n",
    "con.set_isolation_level(ISOLATION_LEVEL_AUTOCOMMIT);\n",
    "\n",
    " \n",
    "\n",
    "# Obtain a DB Cursor\n",
    "\n",
    "cursor          = con.cursor();\n",
    "\n",
    "name_Database   = \"dass\";\n",
    "\n",
    " \n",
    "\n",
    "# Create table statement\n",
    "\n",
    "sqlCreateDatabase = \"create database \"+name_Database+\";\"\n",
    "\n",
    " \n",
    "\n",
    "# Create a table in PostgreSQL database\n",
    "\n",
    "cursor.execute(sqlCreateDatabase);"
   ]
  },
  {
   "cell_type": "markdown",
   "id": "63990c29",
   "metadata": {},
   "source": [
    "## Create tables"
   ]
  },
  {
   "cell_type": "code",
   "execution_count": 30,
   "id": "98a69e5c",
   "metadata": {},
   "outputs": [
    {
     "name": "stdout",
     "output_type": "stream",
     "text": [
      "Connection established\n",
      "Cursor opened\n",
      "Tables created\n",
      "Commit successful\n",
      "PostgreSQL cursor & connection is now closed\n"
     ]
    }
   ],
   "source": [
    "def create_tables():\n",
    "    \"\"\" Use create commands to add tables to dass database in postgres\"\"\"\n",
    "    \n",
    "    commands = (\n",
    "        \"\"\"\n",
    "        CREATE TABLE age_grp(\n",
    "        age_grp_id SERIAL PRIMARY KEY,\n",
    "        age_group CHAR(30))\n",
    "        \"\"\",\n",
    "        \"\"\"\n",
    "        CREATE TABLE person_info(\n",
    "        person_id SERIAL PRIMARY KEY,\n",
    "        gender INTEGER,\n",
    "        race INTEGER,\n",
    "        orientation INTEGER,\n",
    "        married INTEGER,\n",
    "        hand INTEGER,\n",
    "        familysize INTEGER,\n",
    "        engnat INTEGER,\n",
    "        age_grp_id SERIAL REFERENCES age_grp(age_grp_id))\n",
    "        \"\"\",\n",
    "        \"\"\"\n",
    "        CREATE TABLE location_info(\n",
    "        loc_id SERIAL PRIMARY KEY,\n",
    "        urban INTEGER, \n",
    "        country CHAR(2),\n",
    "        person_id SERIAL REFERENCES person_info(person_id))\n",
    "        \"\"\",\n",
    "        \"\"\"\n",
    "        CREATE TABLE educ_info(\n",
    "        educ_id SERIAL PRIMARY KEY,\n",
    "        educ_level INTEGER, \n",
    "        major CHAR(40),\n",
    "        person_id SERIAL REFERENCES person_info(person_id))\n",
    "        \"\"\",\n",
    "        \"\"\"\n",
    "        CREATE TABLE temper_info(\n",
    "        temper_id SERIAL PRIMARY KEY,\n",
    "        tipi1 INTEGER,\n",
    "        tipi2 INTEGER,\n",
    "        tipi3 INTEGER,\n",
    "        tipi4 INTEGER,\n",
    "        tipi5 INTEGER,\n",
    "        tipi6 INTEGER,\n",
    "        tipi7 INTEGER,\n",
    "        tipi8 INTEGER,\n",
    "        tipi9 INTEGER,\n",
    "        tipi10 INTEGER,\n",
    "        person_id SERIAL REFERENCES person_info(person_id))\n",
    "        \"\"\",\n",
    "        \"\"\"\n",
    "        CREATE TABLE dass_info(\n",
    "        dass_id SERIAL PRIMARY KEY,\n",
    "        dep_score INTEGER,\n",
    "        dep_level INTEGER,\n",
    "        anxiety_score INTEGER,\n",
    "        anxiety_level INTEGER,\n",
    "        stress_score INTEGER,\n",
    "        stress_level INTEGER,\n",
    "        person_id SERIAL REFERENCES person_info(person_id))\n",
    "        \"\"\"\n",
    "        )\n",
    "    \n",
    "    \n",
    "    #Create a connection credentials to the PostgreSQL database\n",
    "    try:\n",
    "        conn = psycopg2.connect(user = \"postgres\", password = password, database = \"dass\")\n",
    "        print(\"Connection established\")\n",
    "        \n",
    "        #Create a cursor connection object to a PostgreSQL instance \n",
    "        cur = conn.cursor()\n",
    "        print(\"Cursor opened\")\n",
    "    \n",
    "        for command in commands:\n",
    "            cur.execute(command)\n",
    "    \n",
    "        print(\"Tables created\")\n",
    "    \n",
    "        #Commit transaction and prints the result successfully\n",
    "        conn.commit()\n",
    "        print (\"Commit successful\")\n",
    "\n",
    "    #Handle the error throws by the command that is useful when using python while working with PostgreSQL\n",
    "    except(Exception, psycopg2.Error) as error:\n",
    "        print(\"Error connecting to PostgreSQL database\", error)\n",
    "        conn = None\n",
    "\n",
    "    #Close the database connection\n",
    "    finally:\n",
    "        if(conn != None):\n",
    "            cur.close()\n",
    "            conn.close()\n",
    "            print(\"PostgreSQL cursor & connection is now closed\")\n",
    "            \n",
    "if __name__ == '__main__':\n",
    "    create_tables()"
   ]
  },
  {
   "cell_type": "markdown",
   "id": "192472c3",
   "metadata": {},
   "source": [
    "## Load tables"
   ]
  },
  {
   "cell_type": "code",
   "execution_count": 31,
   "id": "f9952c16",
   "metadata": {},
   "outputs": [],
   "source": [
    "def load_table_func(conn,csv_file,table_na):\n",
    "    cur = conn.cursor()\n",
    "    print(\"Cursor opened for processing csv \",csv_file)\n",
    "    \n",
    "    with open(csv_file,'r') as i:\n",
    "        # Skip the header row\n",
    "        next(i)\n",
    "        \n",
    "        # copy the table\n",
    "        cur.copy_from(i,table_na,sep=',',null='')\n",
    "    "
   ]
  },
  {
   "cell_type": "code",
   "execution_count": 32,
   "id": "59c587e0",
   "metadata": {},
   "outputs": [
    {
     "name": "stdout",
     "output_type": "stream",
     "text": [
      "Connection established\n",
      "Cursor opened for processing csv  age_grp.csv\n",
      "Cursor opened for processing csv  person.csv\n",
      "Cursor opened for processing csv  loc_info.csv\n",
      "Cursor opened for processing csv  educ_info.csv\n",
      "Cursor opened for processing csv  temper_info.csv\n",
      "Cursor opened for processing csv  dass_info.csv\n"
     ]
    }
   ],
   "source": [
    "conn = psycopg2.connect(user = \"postgres\", password = password, database = \"dass\")\n",
    "print(\"Connection established\")\n",
    "\n",
    "load_table_func(conn,'age_grp.csv','age_grp')\n",
    "load_table_func(conn,'person.csv','person_info')\n",
    "load_table_func(conn,'loc_info.csv','location_info')\n",
    "load_table_func(conn,'educ_info.csv','educ_info')\n",
    "load_table_func(conn,'temper_info.csv','temper_info')\n",
    "load_table_func(conn,'dass_info.csv','dass_info')\n",
    "conn.commit()\n",
    "conn.close()"
   ]
  },
  {
   "cell_type": "code",
   "execution_count": null,
   "id": "54fc7db8",
   "metadata": {},
   "outputs": [],
   "source": []
  }
 ],
 "metadata": {
  "kernelspec": {
   "display_name": "Python 3 (ipykernel)",
   "language": "python",
   "name": "python3"
  },
  "language_info": {
   "codemirror_mode": {
    "name": "ipython",
    "version": 3
   },
   "file_extension": ".py",
   "mimetype": "text/x-python",
   "name": "python",
   "nbconvert_exporter": "python",
   "pygments_lexer": "ipython3",
   "version": "3.9.7"
  }
 },
 "nbformat": 4,
 "nbformat_minor": 5
}
