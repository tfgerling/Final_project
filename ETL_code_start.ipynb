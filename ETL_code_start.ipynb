{
 "cells": [
  {
   "cell_type": "markdown",
   "id": "0ab9a901",
   "metadata": {},
   "source": [
    "# ETL code for DASS database"
   ]
  },
  {
   "cell_type": "code",
   "execution_count": 1,
   "id": "5658887a",
   "metadata": {},
   "outputs": [],
   "source": [
    "#Setting dependencies\n",
    "\n",
    "import numpy as np\n",
    "import pandas as pd\n",
    "\n",
    "from sklearn.preprocessing import LabelEncoder\n",
    "\n",
    "#Import the python driver for PostgreSQL\n",
    "import psycopg2\n",
    "from passwords import password"
   ]
  },
  {
   "cell_type": "markdown",
   "id": "d8442a27",
   "metadata": {},
   "source": [
    "### Read the csv file created during pre-processing"
   ]
  },
  {
   "cell_type": "code",
   "execution_count": 2,
   "id": "6ee8eba5",
   "metadata": {},
   "outputs": [],
   "source": [
    "df = pd.read_csv('dass.csv')"
   ]
  },
  {
   "cell_type": "code",
   "execution_count": 3,
   "id": "5f3d4ca0",
   "metadata": {},
   "outputs": [
    {
     "name": "stdout",
     "output_type": "stream",
     "text": [
      "<class 'pandas.core.frame.DataFrame'>\n",
      "RangeIndex: 39737 entries, 0 to 39736\n",
      "Data columns (total 34 columns):\n",
      " #   Column          Non-Null Count  Dtype  \n",
      "---  ------          --------------  -----  \n",
      " 0   country         39737 non-null  object \n",
      " 1   tipi1           39737 non-null  int64  \n",
      " 2   tipi2           39737 non-null  int64  \n",
      " 3   tipi3           39737 non-null  int64  \n",
      " 4   tipi4           39737 non-null  int64  \n",
      " 5   tipi5           39737 non-null  int64  \n",
      " 6   tipi6           39737 non-null  int64  \n",
      " 7   tipi7           39737 non-null  int64  \n",
      " 8   tipi8           39737 non-null  int64  \n",
      " 9   tipi9           39737 non-null  int64  \n",
      " 10  tipi10          39737 non-null  int64  \n",
      " 11  education       39737 non-null  int64  \n",
      " 12  urban           39737 non-null  int64  \n",
      " 13  gender          39737 non-null  int64  \n",
      " 14  engnat          39737 non-null  int64  \n",
      " 15  age_group       39737 non-null  object \n",
      " 16  age             39737 non-null  float64\n",
      " 17  hand            39737 non-null  int64  \n",
      " 18  religion        39737 non-null  int64  \n",
      " 19  orientation     39737 non-null  int64  \n",
      " 20  race            39737 non-null  int64  \n",
      " 21  voted           39737 non-null  int64  \n",
      " 22  married         39737 non-null  int64  \n",
      " 23  familysize      39737 non-null  int64  \n",
      " 24  major           39737 non-null  object \n",
      " 25  Depression      39737 non-null  int64  \n",
      " 26  Depression_cat  39737 non-null  int64  \n",
      " 27  Anxiety         39737 non-null  int64  \n",
      " 28  Anxiety_cat     39737 non-null  int64  \n",
      " 29  Stress          39737 non-null  int64  \n",
      " 30  Stress_cat      39737 non-null  int64  \n",
      " 31  dep_cond        39737 non-null  object \n",
      " 32  anx_cond        39737 non-null  object \n",
      " 33  str_cond        39737 non-null  object \n",
      "dtypes: float64(1), int64(27), object(6)\n",
      "memory usage: 10.3+ MB\n"
     ]
    }
   ],
   "source": [
    "# check the dataframe to ensure it's as expected\n",
    "df.info()"
   ]
  },
  {
   "cell_type": "code",
   "execution_count": 5,
   "id": "a39d1cca",
   "metadata": {},
   "outputs": [
    {
     "data": {
      "text/html": [
       "<div>\n",
       "<style scoped>\n",
       "    .dataframe tbody tr th:only-of-type {\n",
       "        vertical-align: middle;\n",
       "    }\n",
       "\n",
       "    .dataframe tbody tr th {\n",
       "        vertical-align: top;\n",
       "    }\n",
       "\n",
       "    .dataframe thead th {\n",
       "        text-align: right;\n",
       "    }\n",
       "</style>\n",
       "<table border=\"1\" class=\"dataframe\">\n",
       "  <thead>\n",
       "    <tr style=\"text-align: right;\">\n",
       "      <th></th>\n",
       "      <th>country</th>\n",
       "      <th>tipi1</th>\n",
       "      <th>tipi2</th>\n",
       "      <th>tipi3</th>\n",
       "      <th>tipi4</th>\n",
       "      <th>tipi5</th>\n",
       "      <th>tipi6</th>\n",
       "      <th>tipi7</th>\n",
       "      <th>tipi8</th>\n",
       "      <th>tipi9</th>\n",
       "      <th>...</th>\n",
       "      <th>major</th>\n",
       "      <th>Depression</th>\n",
       "      <th>Depression_cat</th>\n",
       "      <th>Anxiety</th>\n",
       "      <th>Anxiety_cat</th>\n",
       "      <th>Stress</th>\n",
       "      <th>Stress_cat</th>\n",
       "      <th>dep_cond</th>\n",
       "      <th>anx_cond</th>\n",
       "      <th>str_cond</th>\n",
       "    </tr>\n",
       "  </thead>\n",
       "  <tbody>\n",
       "    <tr>\n",
       "      <th>0</th>\n",
       "      <td>IN</td>\n",
       "      <td>1</td>\n",
       "      <td>5</td>\n",
       "      <td>7</td>\n",
       "      <td>7</td>\n",
       "      <td>7</td>\n",
       "      <td>7</td>\n",
       "      <td>7</td>\n",
       "      <td>5</td>\n",
       "      <td>1</td>\n",
       "      <td>...</td>\n",
       "      <td>No Degree</td>\n",
       "      <td>27</td>\n",
       "      <td>3</td>\n",
       "      <td>34</td>\n",
       "      <td>4</td>\n",
       "      <td>40</td>\n",
       "      <td>4</td>\n",
       "      <td>3 Severe</td>\n",
       "      <td>4 Extremely Severe</td>\n",
       "      <td>4 Extremely Severe</td>\n",
       "    </tr>\n",
       "    <tr>\n",
       "      <th>1</th>\n",
       "      <td>US</td>\n",
       "      <td>6</td>\n",
       "      <td>5</td>\n",
       "      <td>4</td>\n",
       "      <td>7</td>\n",
       "      <td>5</td>\n",
       "      <td>4</td>\n",
       "      <td>7</td>\n",
       "      <td>7</td>\n",
       "      <td>1</td>\n",
       "      <td>...</td>\n",
       "      <td>No Degree</td>\n",
       "      <td>24</td>\n",
       "      <td>3</td>\n",
       "      <td>17</td>\n",
       "      <td>3</td>\n",
       "      <td>27</td>\n",
       "      <td>3</td>\n",
       "      <td>3 Severe</td>\n",
       "      <td>3 Severe</td>\n",
       "      <td>3 Severe</td>\n",
       "    </tr>\n",
       "    <tr>\n",
       "      <th>2</th>\n",
       "      <td>PL</td>\n",
       "      <td>2</td>\n",
       "      <td>5</td>\n",
       "      <td>2</td>\n",
       "      <td>2</td>\n",
       "      <td>5</td>\n",
       "      <td>6</td>\n",
       "      <td>5</td>\n",
       "      <td>5</td>\n",
       "      <td>3</td>\n",
       "      <td>...</td>\n",
       "      <td>No Degree</td>\n",
       "      <td>39</td>\n",
       "      <td>4</td>\n",
       "      <td>12</td>\n",
       "      <td>2</td>\n",
       "      <td>17</td>\n",
       "      <td>1</td>\n",
       "      <td>4 Extremely Severe</td>\n",
       "      <td>2 Moderate</td>\n",
       "      <td>1 Mild</td>\n",
       "    </tr>\n",
       "    <tr>\n",
       "      <th>3</th>\n",
       "      <td>US</td>\n",
       "      <td>1</td>\n",
       "      <td>1</td>\n",
       "      <td>7</td>\n",
       "      <td>4</td>\n",
       "      <td>6</td>\n",
       "      <td>4</td>\n",
       "      <td>6</td>\n",
       "      <td>1</td>\n",
       "      <td>6</td>\n",
       "      <td>...</td>\n",
       "      <td>Biology</td>\n",
       "      <td>16</td>\n",
       "      <td>2</td>\n",
       "      <td>17</td>\n",
       "      <td>3</td>\n",
       "      <td>16</td>\n",
       "      <td>1</td>\n",
       "      <td>2 Moderate</td>\n",
       "      <td>3 Severe</td>\n",
       "      <td>1 Mild</td>\n",
       "    </tr>\n",
       "    <tr>\n",
       "      <th>4</th>\n",
       "      <td>MY</td>\n",
       "      <td>2</td>\n",
       "      <td>5</td>\n",
       "      <td>3</td>\n",
       "      <td>6</td>\n",
       "      <td>5</td>\n",
       "      <td>5</td>\n",
       "      <td>5</td>\n",
       "      <td>6</td>\n",
       "      <td>3</td>\n",
       "      <td>...</td>\n",
       "      <td>Psychology</td>\n",
       "      <td>32</td>\n",
       "      <td>4</td>\n",
       "      <td>40</td>\n",
       "      <td>4</td>\n",
       "      <td>29</td>\n",
       "      <td>3</td>\n",
       "      <td>4 Extremely Severe</td>\n",
       "      <td>4 Extremely Severe</td>\n",
       "      <td>3 Severe</td>\n",
       "    </tr>\n",
       "  </tbody>\n",
       "</table>\n",
       "<p>5 rows × 34 columns</p>\n",
       "</div>"
      ],
      "text/plain": [
       "  country  tipi1  tipi2  tipi3  tipi4  tipi5  tipi6  tipi7  tipi8  tipi9  ...  \\\n",
       "0      IN      1      5      7      7      7      7      7      5      1  ...   \n",
       "1      US      6      5      4      7      5      4      7      7      1  ...   \n",
       "2      PL      2      5      2      2      5      6      5      5      3  ...   \n",
       "3      US      1      1      7      4      6      4      6      1      6  ...   \n",
       "4      MY      2      5      3      6      5      5      5      6      3  ...   \n",
       "\n",
       "        major  Depression  Depression_cat  Anxiety  Anxiety_cat Stress  \\\n",
       "0   No Degree          27               3       34            4     40   \n",
       "1   No Degree          24               3       17            3     27   \n",
       "2   No Degree          39               4       12            2     17   \n",
       "3     Biology          16               2       17            3     16   \n",
       "4  Psychology          32               4       40            4     29   \n",
       "\n",
       "   Stress_cat            dep_cond            anx_cond            str_cond  \n",
       "0           4            3 Severe  4 Extremely Severe  4 Extremely Severe  \n",
       "1           3            3 Severe            3 Severe            3 Severe  \n",
       "2           1  4 Extremely Severe          2 Moderate              1 Mild  \n",
       "3           1          2 Moderate            3 Severe              1 Mild  \n",
       "4           3  4 Extremely Severe  4 Extremely Severe            3 Severe  \n",
       "\n",
       "[5 rows x 34 columns]"
      ]
     },
     "execution_count": 5,
     "metadata": {},
     "output_type": "execute_result"
    }
   ],
   "source": [
    "# print the head to see the data\n",
    "df.head()"
   ]
  },
  {
   "cell_type": "markdown",
   "id": "dcf387f3",
   "metadata": {},
   "source": [
    "Create keys for each planned table and write each table out to a separate csv file."
   ]
  },
  {
   "cell_type": "code",
   "execution_count": 7,
   "id": "d29e66fa",
   "metadata": {},
   "outputs": [],
   "source": [
    "class_labels = LabelEncoder()"
   ]
  },
  {
   "cell_type": "code",
   "execution_count": 8,
   "id": "47489dfd",
   "metadata": {},
   "outputs": [],
   "source": [
    "df['age_grp_id'] = class_labels.fit_transform(df['age_group'].values)"
   ]
  },
  {
   "cell_type": "code",
   "execution_count": 9,
   "id": "a3375034",
   "metadata": {},
   "outputs": [],
   "source": [
    "# create a function for making ids for the tables. A new column is added to the dataframe when this is called\n",
    "\n",
    "def make_id(df):\n",
    "    str_id = df.apply(lambda x: '_'.join(map(str, x)), axis=1)\n",
    "    return pd.factorize(str_id)[0]\n",
    "\n",
    "df['person_id'] = make_id(df)"
   ]
  },
  {
   "cell_type": "markdown",
   "id": "e7e58297",
   "metadata": {},
   "source": [
    "Verify person_id is unique"
   ]
  },
  {
   "cell_type": "code",
   "execution_count": 10,
   "id": "fd238f5b",
   "metadata": {},
   "outputs": [
    {
     "data": {
      "text/plain": [
       "0        1\n",
       "26494    1\n",
       "26487    1\n",
       "26488    1\n",
       "26489    1\n",
       "        ..\n",
       "13247    1\n",
       "13248    1\n",
       "13249    1\n",
       "13250    1\n",
       "39736    1\n",
       "Name: person_id, Length: 39737, dtype: int64"
      ]
     },
     "execution_count": 10,
     "metadata": {},
     "output_type": "execute_result"
    }
   ],
   "source": [
    "df['person_id'].value_counts()"
   ]
  },
  {
   "cell_type": "code",
   "execution_count": 11,
   "id": "1e7ab43e",
   "metadata": {},
   "outputs": [
    {
     "name": "stdout",
     "output_type": "stream",
     "text": [
      "<class 'pandas.core.frame.DataFrame'>\n",
      "Int64Index: 39737 entries, 0 to 39736\n",
      "Data columns (total 36 columns):\n",
      " #   Column          Non-Null Count  Dtype  \n",
      "---  ------          --------------  -----  \n",
      " 0   country         39737 non-null  object \n",
      " 1   tipi1           39737 non-null  int64  \n",
      " 2   tipi2           39737 non-null  int64  \n",
      " 3   tipi3           39737 non-null  int64  \n",
      " 4   tipi4           39737 non-null  int64  \n",
      " 5   tipi5           39737 non-null  int64  \n",
      " 6   tipi6           39737 non-null  int64  \n",
      " 7   tipi7           39737 non-null  int64  \n",
      " 8   tipi8           39737 non-null  int64  \n",
      " 9   tipi9           39737 non-null  int64  \n",
      " 10  tipi10          39737 non-null  int64  \n",
      " 11  education       39737 non-null  int64  \n",
      " 12  urban           39737 non-null  int64  \n",
      " 13  gender          39737 non-null  int64  \n",
      " 14  engnat          39737 non-null  int64  \n",
      " 15  age_group       39737 non-null  object \n",
      " 16  age             39737 non-null  float64\n",
      " 17  hand            39737 non-null  int64  \n",
      " 18  religion        39737 non-null  int64  \n",
      " 19  orientation     39737 non-null  int64  \n",
      " 20  race            39737 non-null  int64  \n",
      " 21  voted           39737 non-null  int64  \n",
      " 22  married         39737 non-null  int64  \n",
      " 23  familysize      39737 non-null  int64  \n",
      " 24  major           39737 non-null  object \n",
      " 25  Depression      39737 non-null  int64  \n",
      " 26  Depression_cat  39737 non-null  int64  \n",
      " 27  Anxiety         39737 non-null  int64  \n",
      " 28  Anxiety_cat     39737 non-null  int64  \n",
      " 29  Stress          39737 non-null  int64  \n",
      " 30  Stress_cat      39737 non-null  int64  \n",
      " 31  dep_cond        39737 non-null  object \n",
      " 32  anx_cond        39737 non-null  object \n",
      " 33  str_cond        39737 non-null  object \n",
      " 34  age_grp_id      39737 non-null  int32  \n",
      " 35  person_id       39737 non-null  int64  \n",
      "dtypes: float64(1), int32(1), int64(28), object(6)\n",
      "memory usage: 11.1+ MB\n"
     ]
    }
   ],
   "source": [
    "df.info()"
   ]
  },
  {
   "cell_type": "markdown",
   "id": "d00ff092",
   "metadata": {},
   "source": [
    "Use LabelEncoder to create loc id based on combination of data that will be part of the location info table."
   ]
  },
  {
   "cell_type": "code",
   "execution_count": 12,
   "id": "42f458d5",
   "metadata": {},
   "outputs": [],
   "source": [
    "df['loc_info'] = df['urban'].astype(str) + df['country'] + df['person_id'].astype(str)\n",
    "df['loc_id'] = class_labels.fit_transform(df['loc_info'].values)\n"
   ]
  },
  {
   "cell_type": "markdown",
   "id": "e7caade7",
   "metadata": {},
   "source": [
    "Call the make_id function to create a dass id and then temper id"
   ]
  },
  {
   "cell_type": "code",
   "execution_count": 13,
   "id": "fb0d6e81",
   "metadata": {},
   "outputs": [],
   "source": [
    "df['dass_id'] = make_id(df[['Depression', 'Anxiety', 'Stress', 'person_id']])"
   ]
  },
  {
   "cell_type": "code",
   "execution_count": 14,
   "id": "3cc8bb00",
   "metadata": {},
   "outputs": [
    {
     "data": {
      "text/plain": [
       "0        1\n",
       "26494    1\n",
       "26487    1\n",
       "26488    1\n",
       "26489    1\n",
       "        ..\n",
       "13247    1\n",
       "13248    1\n",
       "13249    1\n",
       "13250    1\n",
       "39736    1\n",
       "Name: dass_id, Length: 39737, dtype: int64"
      ]
     },
     "execution_count": 14,
     "metadata": {},
     "output_type": "execute_result"
    }
   ],
   "source": [
    "df['dass_id'].value_counts()"
   ]
  },
  {
   "cell_type": "code",
   "execution_count": 15,
   "id": "abff0754",
   "metadata": {},
   "outputs": [],
   "source": [
    "df['temper_id'] = make_id(df[['tipi1', 'tipi2', 'tipi3', 'tipi4', 'tipi5', 'tipi6', 'tipi7', 'tipi8', 'tipi9','tipi10','person_id']])"
   ]
  },
  {
   "cell_type": "code",
   "execution_count": 16,
   "id": "644878fa",
   "metadata": {},
   "outputs": [
    {
     "data": {
      "text/plain": [
       "0        1\n",
       "26494    1\n",
       "26487    1\n",
       "26488    1\n",
       "26489    1\n",
       "        ..\n",
       "13247    1\n",
       "13248    1\n",
       "13249    1\n",
       "13250    1\n",
       "39736    1\n",
       "Name: temper_id, Length: 39737, dtype: int64"
      ]
     },
     "execution_count": 16,
     "metadata": {},
     "output_type": "execute_result"
    }
   ],
   "source": [
    "df['temper_id'].value_counts()"
   ]
  },
  {
   "cell_type": "markdown",
   "id": "6143e256",
   "metadata": {},
   "source": [
    "Remove interim column now that the key was created"
   ]
  },
  {
   "cell_type": "code",
   "execution_count": 17,
   "id": "4f6aed4a",
   "metadata": {},
   "outputs": [],
   "source": [
    "df.drop(['loc_info'], axis='columns', inplace=True)"
   ]
  },
  {
   "cell_type": "code",
   "execution_count": 18,
   "id": "8d1f169a",
   "metadata": {},
   "outputs": [],
   "source": [
    "person_df = df.filter(['person_id','gender','race', 'orientation', 'married', 'hand', 'familysize', 'engnat', 'age_grp_id'], axis=1)\n",
    "age_grp_df = df.filter(['age_grp_id', 'age_group'], axis=1)\n",
    "loc_info_df = df.filter(['loc_id', 'urban', 'country', 'person_id'], axis=1)\n",
    "dass_info_df = df.filter(['dass_id', 'Depression', 'Depression_cat', 'Anxiety', 'Anxiety_cat', 'Stress', 'Stress_cat', 'person_id'], axis=1)\n",
    "temper_info_df = df.filter(['temper_id', 'tipi1', 'tipi2', 'tipi3', 'tipi4', 'tipi5', 'tipi6', 'tipi7', 'tipi8', 'tipi9','tipi10','person_id'],axis=1)"
   ]
  },
  {
   "cell_type": "markdown",
   "id": "3355a1a1",
   "metadata": {},
   "source": [
    "Check each one to make sure data looks good"
   ]
  },
  {
   "cell_type": "code",
   "execution_count": 19,
   "id": "65927b04",
   "metadata": {},
   "outputs": [
    {
     "data": {
      "text/html": [
       "<div>\n",
       "<style scoped>\n",
       "    .dataframe tbody tr th:only-of-type {\n",
       "        vertical-align: middle;\n",
       "    }\n",
       "\n",
       "    .dataframe tbody tr th {\n",
       "        vertical-align: top;\n",
       "    }\n",
       "\n",
       "    .dataframe thead th {\n",
       "        text-align: right;\n",
       "    }\n",
       "</style>\n",
       "<table border=\"1\" class=\"dataframe\">\n",
       "  <thead>\n",
       "    <tr style=\"text-align: right;\">\n",
       "      <th></th>\n",
       "      <th>person_id</th>\n",
       "      <th>gender</th>\n",
       "      <th>race</th>\n",
       "      <th>orientation</th>\n",
       "      <th>married</th>\n",
       "      <th>hand</th>\n",
       "      <th>familysize</th>\n",
       "      <th>engnat</th>\n",
       "      <th>age_grp_id</th>\n",
       "    </tr>\n",
       "  </thead>\n",
       "  <tbody>\n",
       "    <tr>\n",
       "      <th>0</th>\n",
       "      <td>0</td>\n",
       "      <td>2</td>\n",
       "      <td>10</td>\n",
       "      <td>1</td>\n",
       "      <td>1</td>\n",
       "      <td>1</td>\n",
       "      <td>2</td>\n",
       "      <td>2</td>\n",
       "      <td>0</td>\n",
       "    </tr>\n",
       "    <tr>\n",
       "      <th>1</th>\n",
       "      <td>1</td>\n",
       "      <td>2</td>\n",
       "      <td>70</td>\n",
       "      <td>5</td>\n",
       "      <td>1</td>\n",
       "      <td>2</td>\n",
       "      <td>4</td>\n",
       "      <td>1</td>\n",
       "      <td>0</td>\n",
       "    </tr>\n",
       "    <tr>\n",
       "      <th>2</th>\n",
       "      <td>2</td>\n",
       "      <td>2</td>\n",
       "      <td>60</td>\n",
       "      <td>3</td>\n",
       "      <td>1</td>\n",
       "      <td>1</td>\n",
       "      <td>3</td>\n",
       "      <td>2</td>\n",
       "      <td>0</td>\n",
       "    </tr>\n",
       "    <tr>\n",
       "      <th>3</th>\n",
       "      <td>3</td>\n",
       "      <td>2</td>\n",
       "      <td>70</td>\n",
       "      <td>5</td>\n",
       "      <td>1</td>\n",
       "      <td>2</td>\n",
       "      <td>5</td>\n",
       "      <td>1</td>\n",
       "      <td>0</td>\n",
       "    </tr>\n",
       "    <tr>\n",
       "      <th>4</th>\n",
       "      <td>4</td>\n",
       "      <td>2</td>\n",
       "      <td>10</td>\n",
       "      <td>1</td>\n",
       "      <td>1</td>\n",
       "      <td>3</td>\n",
       "      <td>4</td>\n",
       "      <td>2</td>\n",
       "      <td>0</td>\n",
       "    </tr>\n",
       "  </tbody>\n",
       "</table>\n",
       "</div>"
      ],
      "text/plain": [
       "   person_id  gender  race  orientation  married  hand  familysize  engnat  \\\n",
       "0          0       2    10            1        1     1           2       2   \n",
       "1          1       2    70            5        1     2           4       1   \n",
       "2          2       2    60            3        1     1           3       2   \n",
       "3          3       2    70            5        1     2           5       1   \n",
       "4          4       2    10            1        1     3           4       2   \n",
       "\n",
       "   age_grp_id  \n",
       "0           0  \n",
       "1           0  \n",
       "2           0  \n",
       "3           0  \n",
       "4           0  "
      ]
     },
     "execution_count": 19,
     "metadata": {},
     "output_type": "execute_result"
    }
   ],
   "source": [
    "person_df.head()"
   ]
  },
  {
   "cell_type": "code",
   "execution_count": 20,
   "id": "02c048ea",
   "metadata": {},
   "outputs": [
    {
     "data": {
      "text/html": [
       "<div>\n",
       "<style scoped>\n",
       "    .dataframe tbody tr th:only-of-type {\n",
       "        vertical-align: middle;\n",
       "    }\n",
       "\n",
       "    .dataframe tbody tr th {\n",
       "        vertical-align: top;\n",
       "    }\n",
       "\n",
       "    .dataframe thead th {\n",
       "        text-align: right;\n",
       "    }\n",
       "</style>\n",
       "<table border=\"1\" class=\"dataframe\">\n",
       "  <thead>\n",
       "    <tr style=\"text-align: right;\">\n",
       "      <th></th>\n",
       "      <th>age_grp_id</th>\n",
       "      <th>age_group</th>\n",
       "    </tr>\n",
       "  </thead>\n",
       "  <tbody>\n",
       "    <tr>\n",
       "      <th>0</th>\n",
       "      <td>0</td>\n",
       "      <td>0-20</td>\n",
       "    </tr>\n",
       "    <tr>\n",
       "      <th>1</th>\n",
       "      <td>0</td>\n",
       "      <td>0-20</td>\n",
       "    </tr>\n",
       "    <tr>\n",
       "      <th>2</th>\n",
       "      <td>0</td>\n",
       "      <td>0-20</td>\n",
       "    </tr>\n",
       "    <tr>\n",
       "      <th>3</th>\n",
       "      <td>0</td>\n",
       "      <td>0-20</td>\n",
       "    </tr>\n",
       "    <tr>\n",
       "      <th>4</th>\n",
       "      <td>0</td>\n",
       "      <td>0-20</td>\n",
       "    </tr>\n",
       "  </tbody>\n",
       "</table>\n",
       "</div>"
      ],
      "text/plain": [
       "   age_grp_id age_group\n",
       "0           0      0-20\n",
       "1           0      0-20\n",
       "2           0      0-20\n",
       "3           0      0-20\n",
       "4           0      0-20"
      ]
     },
     "execution_count": 20,
     "metadata": {},
     "output_type": "execute_result"
    }
   ],
   "source": [
    "age_grp_df.head()"
   ]
  },
  {
   "cell_type": "code",
   "execution_count": 21,
   "id": "59719327",
   "metadata": {},
   "outputs": [
    {
     "data": {
      "text/plain": [
       "age_grp_id  age_group\n",
       "1           20-24        14766\n",
       "0           0-20         13820\n",
       "2           25-29         5439\n",
       "3           30-34         2194\n",
       "5           40-49         1321\n",
       "4           35-39         1138\n",
       "6           50-59          764\n",
       "7           60 & over      295\n",
       "dtype: int64"
      ]
     },
     "execution_count": 21,
     "metadata": {},
     "output_type": "execute_result"
    }
   ],
   "source": [
    "age_grp_df.value_counts()"
   ]
  },
  {
   "cell_type": "markdown",
   "id": "fed53009",
   "metadata": {},
   "source": [
    "There are duplicates in the age_grp_df since it is a domain table - will be dropping the duplicates"
   ]
  },
  {
   "cell_type": "code",
   "execution_count": 22,
   "id": "4adc00dc",
   "metadata": {},
   "outputs": [],
   "source": [
    "age_grp_df=age_grp_df.drop_duplicates()"
   ]
  },
  {
   "cell_type": "code",
   "execution_count": 23,
   "id": "a7eedeff",
   "metadata": {},
   "outputs": [
    {
     "data": {
      "text/plain": [
       "age_grp_id  age_group\n",
       "0           0-20         1\n",
       "1           20-24        1\n",
       "2           25-29        1\n",
       "3           30-34        1\n",
       "4           35-39        1\n",
       "5           40-49        1\n",
       "6           50-59        1\n",
       "7           60 & over    1\n",
       "dtype: int64"
      ]
     },
     "execution_count": 23,
     "metadata": {},
     "output_type": "execute_result"
    }
   ],
   "source": [
    "age_grp_df.value_counts()"
   ]
  },
  {
   "cell_type": "code",
   "execution_count": 24,
   "id": "25cb0f75",
   "metadata": {},
   "outputs": [
    {
     "data": {
      "text/html": [
       "<div>\n",
       "<style scoped>\n",
       "    .dataframe tbody tr th:only-of-type {\n",
       "        vertical-align: middle;\n",
       "    }\n",
       "\n",
       "    .dataframe tbody tr th {\n",
       "        vertical-align: top;\n",
       "    }\n",
       "\n",
       "    .dataframe thead th {\n",
       "        text-align: right;\n",
       "    }\n",
       "</style>\n",
       "<table border=\"1\" class=\"dataframe\">\n",
       "  <thead>\n",
       "    <tr style=\"text-align: right;\">\n",
       "      <th></th>\n",
       "      <th>loc_id</th>\n",
       "      <th>urban</th>\n",
       "      <th>country</th>\n",
       "      <th>person_id</th>\n",
       "    </tr>\n",
       "  </thead>\n",
       "  <tbody>\n",
       "    <tr>\n",
       "      <th>0</th>\n",
       "      <td>24673</td>\n",
       "      <td>3</td>\n",
       "      <td>IN</td>\n",
       "      <td>0</td>\n",
       "    </tr>\n",
       "    <tr>\n",
       "      <th>1</th>\n",
       "      <td>36868</td>\n",
       "      <td>3</td>\n",
       "      <td>US</td>\n",
       "      <td>1</td>\n",
       "    </tr>\n",
       "    <tr>\n",
       "      <th>2</th>\n",
       "      <td>36113</td>\n",
       "      <td>3</td>\n",
       "      <td>PL</td>\n",
       "      <td>2</td>\n",
       "    </tr>\n",
       "    <tr>\n",
       "      <th>3</th>\n",
       "      <td>38555</td>\n",
       "      <td>3</td>\n",
       "      <td>US</td>\n",
       "      <td>3</td>\n",
       "    </tr>\n",
       "    <tr>\n",
       "      <th>4</th>\n",
       "      <td>16345</td>\n",
       "      <td>2</td>\n",
       "      <td>MY</td>\n",
       "      <td>4</td>\n",
       "    </tr>\n",
       "  </tbody>\n",
       "</table>\n",
       "</div>"
      ],
      "text/plain": [
       "   loc_id  urban country  person_id\n",
       "0   24673      3      IN          0\n",
       "1   36868      3      US          1\n",
       "2   36113      3      PL          2\n",
       "3   38555      3      US          3\n",
       "4   16345      2      MY          4"
      ]
     },
     "execution_count": 24,
     "metadata": {},
     "output_type": "execute_result"
    }
   ],
   "source": [
    "loc_info_df.head()"
   ]
  },
  {
   "cell_type": "code",
   "execution_count": 25,
   "id": "b4251cff",
   "metadata": {},
   "outputs": [
    {
     "data": {
      "text/html": [
       "<div>\n",
       "<style scoped>\n",
       "    .dataframe tbody tr th:only-of-type {\n",
       "        vertical-align: middle;\n",
       "    }\n",
       "\n",
       "    .dataframe tbody tr th {\n",
       "        vertical-align: top;\n",
       "    }\n",
       "\n",
       "    .dataframe thead th {\n",
       "        text-align: right;\n",
       "    }\n",
       "</style>\n",
       "<table border=\"1\" class=\"dataframe\">\n",
       "  <thead>\n",
       "    <tr style=\"text-align: right;\">\n",
       "      <th></th>\n",
       "      <th>dass_id</th>\n",
       "      <th>Depression</th>\n",
       "      <th>Depression_cat</th>\n",
       "      <th>Anxiety</th>\n",
       "      <th>Anxiety_cat</th>\n",
       "      <th>Stress</th>\n",
       "      <th>Stress_cat</th>\n",
       "      <th>person_id</th>\n",
       "    </tr>\n",
       "  </thead>\n",
       "  <tbody>\n",
       "    <tr>\n",
       "      <th>0</th>\n",
       "      <td>0</td>\n",
       "      <td>27</td>\n",
       "      <td>3</td>\n",
       "      <td>34</td>\n",
       "      <td>4</td>\n",
       "      <td>40</td>\n",
       "      <td>4</td>\n",
       "      <td>0</td>\n",
       "    </tr>\n",
       "    <tr>\n",
       "      <th>1</th>\n",
       "      <td>1</td>\n",
       "      <td>24</td>\n",
       "      <td>3</td>\n",
       "      <td>17</td>\n",
       "      <td>3</td>\n",
       "      <td>27</td>\n",
       "      <td>3</td>\n",
       "      <td>1</td>\n",
       "    </tr>\n",
       "    <tr>\n",
       "      <th>2</th>\n",
       "      <td>2</td>\n",
       "      <td>39</td>\n",
       "      <td>4</td>\n",
       "      <td>12</td>\n",
       "      <td>2</td>\n",
       "      <td>17</td>\n",
       "      <td>1</td>\n",
       "      <td>2</td>\n",
       "    </tr>\n",
       "    <tr>\n",
       "      <th>3</th>\n",
       "      <td>3</td>\n",
       "      <td>16</td>\n",
       "      <td>2</td>\n",
       "      <td>17</td>\n",
       "      <td>3</td>\n",
       "      <td>16</td>\n",
       "      <td>1</td>\n",
       "      <td>3</td>\n",
       "    </tr>\n",
       "    <tr>\n",
       "      <th>4</th>\n",
       "      <td>4</td>\n",
       "      <td>32</td>\n",
       "      <td>4</td>\n",
       "      <td>40</td>\n",
       "      <td>4</td>\n",
       "      <td>29</td>\n",
       "      <td>3</td>\n",
       "      <td>4</td>\n",
       "    </tr>\n",
       "  </tbody>\n",
       "</table>\n",
       "</div>"
      ],
      "text/plain": [
       "   dass_id  Depression  Depression_cat  Anxiety  Anxiety_cat  Stress  \\\n",
       "0        0          27               3       34            4      40   \n",
       "1        1          24               3       17            3      27   \n",
       "2        2          39               4       12            2      17   \n",
       "3        3          16               2       17            3      16   \n",
       "4        4          32               4       40            4      29   \n",
       "\n",
       "   Stress_cat  person_id  \n",
       "0           4          0  \n",
       "1           3          1  \n",
       "2           1          2  \n",
       "3           1          3  \n",
       "4           3          4  "
      ]
     },
     "execution_count": 25,
     "metadata": {},
     "output_type": "execute_result"
    }
   ],
   "source": [
    "dass_info_df.head()"
   ]
  },
  {
   "cell_type": "code",
   "execution_count": 26,
   "id": "f90eeccd",
   "metadata": {},
   "outputs": [
    {
     "data": {
      "text/html": [
       "<div>\n",
       "<style scoped>\n",
       "    .dataframe tbody tr th:only-of-type {\n",
       "        vertical-align: middle;\n",
       "    }\n",
       "\n",
       "    .dataframe tbody tr th {\n",
       "        vertical-align: top;\n",
       "    }\n",
       "\n",
       "    .dataframe thead th {\n",
       "        text-align: right;\n",
       "    }\n",
       "</style>\n",
       "<table border=\"1\" class=\"dataframe\">\n",
       "  <thead>\n",
       "    <tr style=\"text-align: right;\">\n",
       "      <th></th>\n",
       "      <th>temper_id</th>\n",
       "      <th>tipi1</th>\n",
       "      <th>tipi2</th>\n",
       "      <th>tipi3</th>\n",
       "      <th>tipi4</th>\n",
       "      <th>tipi5</th>\n",
       "      <th>tipi6</th>\n",
       "      <th>tipi7</th>\n",
       "      <th>tipi8</th>\n",
       "      <th>tipi9</th>\n",
       "      <th>tipi10</th>\n",
       "      <th>person_id</th>\n",
       "    </tr>\n",
       "  </thead>\n",
       "  <tbody>\n",
       "    <tr>\n",
       "      <th>0</th>\n",
       "      <td>0</td>\n",
       "      <td>1</td>\n",
       "      <td>5</td>\n",
       "      <td>7</td>\n",
       "      <td>7</td>\n",
       "      <td>7</td>\n",
       "      <td>7</td>\n",
       "      <td>7</td>\n",
       "      <td>5</td>\n",
       "      <td>1</td>\n",
       "      <td>1</td>\n",
       "      <td>0</td>\n",
       "    </tr>\n",
       "    <tr>\n",
       "      <th>1</th>\n",
       "      <td>1</td>\n",
       "      <td>6</td>\n",
       "      <td>5</td>\n",
       "      <td>4</td>\n",
       "      <td>7</td>\n",
       "      <td>5</td>\n",
       "      <td>4</td>\n",
       "      <td>7</td>\n",
       "      <td>7</td>\n",
       "      <td>1</td>\n",
       "      <td>5</td>\n",
       "      <td>1</td>\n",
       "    </tr>\n",
       "    <tr>\n",
       "      <th>2</th>\n",
       "      <td>2</td>\n",
       "      <td>2</td>\n",
       "      <td>5</td>\n",
       "      <td>2</td>\n",
       "      <td>2</td>\n",
       "      <td>5</td>\n",
       "      <td>6</td>\n",
       "      <td>5</td>\n",
       "      <td>5</td>\n",
       "      <td>3</td>\n",
       "      <td>2</td>\n",
       "      <td>2</td>\n",
       "    </tr>\n",
       "    <tr>\n",
       "      <th>3</th>\n",
       "      <td>3</td>\n",
       "      <td>1</td>\n",
       "      <td>1</td>\n",
       "      <td>7</td>\n",
       "      <td>4</td>\n",
       "      <td>6</td>\n",
       "      <td>4</td>\n",
       "      <td>6</td>\n",
       "      <td>1</td>\n",
       "      <td>6</td>\n",
       "      <td>1</td>\n",
       "      <td>3</td>\n",
       "    </tr>\n",
       "    <tr>\n",
       "      <th>4</th>\n",
       "      <td>4</td>\n",
       "      <td>2</td>\n",
       "      <td>5</td>\n",
       "      <td>3</td>\n",
       "      <td>6</td>\n",
       "      <td>5</td>\n",
       "      <td>5</td>\n",
       "      <td>5</td>\n",
       "      <td>6</td>\n",
       "      <td>3</td>\n",
       "      <td>3</td>\n",
       "      <td>4</td>\n",
       "    </tr>\n",
       "  </tbody>\n",
       "</table>\n",
       "</div>"
      ],
      "text/plain": [
       "   temper_id  tipi1  tipi2  tipi3  tipi4  tipi5  tipi6  tipi7  tipi8  tipi9  \\\n",
       "0          0      1      5      7      7      7      7      7      5      1   \n",
       "1          1      6      5      4      7      5      4      7      7      1   \n",
       "2          2      2      5      2      2      5      6      5      5      3   \n",
       "3          3      1      1      7      4      6      4      6      1      6   \n",
       "4          4      2      5      3      6      5      5      5      6      3   \n",
       "\n",
       "   tipi10  person_id  \n",
       "0       1          0  \n",
       "1       5          1  \n",
       "2       2          2  \n",
       "3       1          3  \n",
       "4       3          4  "
      ]
     },
     "execution_count": 26,
     "metadata": {},
     "output_type": "execute_result"
    }
   ],
   "source": [
    "temper_info_df.head()"
   ]
  },
  {
   "cell_type": "markdown",
   "id": "d49fffd6",
   "metadata": {},
   "source": [
    "Write each of the new dataframes to csv files."
   ]
  },
  {
   "cell_type": "code",
   "execution_count": 27,
   "id": "da25ea68",
   "metadata": {},
   "outputs": [],
   "source": [
    "person_df.to_csv(\"person.csv\",index=False)\n",
    "age_grp_df.to_csv(\"age_grp.csv\",index=False)\n",
    "loc_info_df.to_csv(\"loc_info.csv\",index=False)\n",
    "dass_info_df.to_csv(\"dass_info.csv\",index=False)\n",
    "temper_info_df.to_csv(\"temper_info.csv\",index=False)"
   ]
  },
  {
   "cell_type": "markdown",
   "id": "b272b577",
   "metadata": {},
   "source": [
    "# Data Model"
   ]
  },
  {
   "attachments": {
    "Data_Model_Final_Project-2.svg": {
     "image/svg+xml": [
      "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"
     ]
    }
   },
   "cell_type": "markdown",
   "id": "4184d3a4",
   "metadata": {},
   "source": [
    "![Data_Model_Final_Project-2.svg](attachment:Data_Model_Final_Project-2.svg)"
   ]
  },
  {
   "cell_type": "markdown",
   "id": "cee306d9",
   "metadata": {},
   "source": [
    "Begin the database work - create the database, then create tables and load them."
   ]
  },
  {
   "cell_type": "markdown",
   "id": "8728a167",
   "metadata": {},
   "source": [
    "# Create database"
   ]
  },
  {
   "cell_type": "code",
   "execution_count": 28,
   "id": "f1d11cf3",
   "metadata": {},
   "outputs": [],
   "source": [
    "import psycopg2\n",
    "\n",
    "from psycopg2.extensions import ISOLATION_LEVEL_AUTOCOMMIT\n",
    "\n",
    " \n",
    "\n",
    "# Connect to PostgreSQL DBMS\n",
    "\n",
    "con = psycopg2.connect(user = \"postgres\", password = password);\n",
    "\n",
    "con.set_isolation_level(ISOLATION_LEVEL_AUTOCOMMIT);\n",
    "\n",
    " \n",
    "\n",
    "# Obtain a DB Cursor\n",
    "\n",
    "cursor          = con.cursor();\n",
    "\n",
    "name_Database   = \"dass\";\n",
    "\n",
    " \n",
    "\n",
    "# Create table statement\n",
    "\n",
    "sqlCreateDatabase = \"create database \"+name_Database+\";\"\n",
    "\n",
    " \n",
    "\n",
    "# Create a table in PostgreSQL database\n",
    "\n",
    "cursor.execute(sqlCreateDatabase);"
   ]
  },
  {
   "cell_type": "markdown",
   "id": "63990c29",
   "metadata": {},
   "source": [
    "## Create tables"
   ]
  },
  {
   "cell_type": "code",
   "execution_count": 29,
   "id": "98a69e5c",
   "metadata": {},
   "outputs": [
    {
     "name": "stdout",
     "output_type": "stream",
     "text": [
      "Connection established\n",
      "Cursor opened\n",
      "Tables created\n",
      "Commit successful\n",
      "PostgreSQL cursor & connection is now closed\n"
     ]
    }
   ],
   "source": [
    "def create_tables():\n",
    "    \"\"\" Use create commands to add tables to dass database in postgres\"\"\"\n",
    "    \n",
    "    commands = (\n",
    "        \"\"\"\n",
    "        CREATE TABLE age_grp(\n",
    "        age_grp_id SERIAL PRIMARY KEY,\n",
    "        age_group CHAR(30))\n",
    "        \"\"\",\n",
    "        \"\"\"\n",
    "        CREATE TABLE person_info(\n",
    "        person_id SERIAL PRIMARY KEY,\n",
    "        gender INTEGER,\n",
    "        race INTEGER,\n",
    "        orientation INTEGER,\n",
    "        married INTEGER,\n",
    "        hand INTEGER,\n",
    "        familysize INTEGER,\n",
    "        engnat INTEGER,\n",
    "        age_grp_id SERIAL REFERENCES age_grp(age_grp_id))\n",
    "        \"\"\",\n",
    "        \"\"\"\n",
    "        CREATE TABLE location_info(\n",
    "        loc_id SERIAL PRIMARY KEY,\n",
    "        urban INTEGER, \n",
    "        country CHAR(2),\n",
    "        person_id SERIAL REFERENCES person_info(person_id))\n",
    "        \"\"\",\n",
    "        \"\"\"\n",
    "        CREATE TABLE temper_info(\n",
    "        temper_id SERIAL PRIMARY KEY,\n",
    "        tipi1 INTEGER,\n",
    "        tipi2 INTEGER,\n",
    "        tipi3 INTEGER,\n",
    "        tipi4 INTEGER,\n",
    "        tipi5 INTEGER,\n",
    "        tipi6 INTEGER,\n",
    "        tipi7 INTEGER,\n",
    "        tipi8 INTEGER,\n",
    "        tipi9 INTEGER,\n",
    "        tipi10 INTEGER,\n",
    "        person_id SERIAL REFERENCES person_info(person_id))\n",
    "        \"\"\",\n",
    "        \"\"\"\n",
    "        CREATE TABLE dass_info(\n",
    "        dass_id SERIAL PRIMARY KEY,\n",
    "        dep_score INTEGER,\n",
    "        dep_level INTEGER,\n",
    "        anxiety_score INTEGER,\n",
    "        anxiety_level INTEGER,\n",
    "        stress_score INTEGER,\n",
    "        stress_level INTEGER,\n",
    "        person_id SERIAL REFERENCES person_info(person_id))\n",
    "        \"\"\"\n",
    "        )\n",
    "    \n",
    "    \n",
    "    #Create a connection credentials to the PostgreSQL database\n",
    "    try:\n",
    "        conn = psycopg2.connect(user = \"postgres\", password = password, database = \"dass\")\n",
    "        print(\"Connection established\")\n",
    "        \n",
    "        #Create a cursor connection object to a PostgreSQL instance \n",
    "        cur = conn.cursor()\n",
    "        print(\"Cursor opened\")\n",
    "    \n",
    "        for command in commands:\n",
    "            cur.execute(command)\n",
    "    \n",
    "        print(\"Tables created\")\n",
    "    \n",
    "        #Commit transaction and prints the result successfully\n",
    "        conn.commit()\n",
    "        print (\"Commit successful\")\n",
    "\n",
    "    #Handle the error throws by the command that is useful when using python while working with PostgreSQL\n",
    "    except(Exception, psycopg2.Error) as error:\n",
    "        print(\"Error connecting to PostgreSQL database\", error)\n",
    "        conn = None\n",
    "\n",
    "    #Close the database connection\n",
    "    finally:\n",
    "        if(conn != None):\n",
    "            cur.close()\n",
    "            conn.close()\n",
    "            print(\"PostgreSQL cursor & connection is now closed\")\n",
    "            \n",
    "if __name__ == '__main__':\n",
    "    create_tables()"
   ]
  },
  {
   "cell_type": "markdown",
   "id": "192472c3",
   "metadata": {},
   "source": [
    "## Load tables"
   ]
  },
  {
   "cell_type": "code",
   "execution_count": 31,
   "id": "f9952c16",
   "metadata": {},
   "outputs": [],
   "source": [
    "def load_table_func(conn,csv_file,table_na):\n",
    "    cur = conn.cursor()\n",
    "    print(\"Cursor opened for processing csv \",csv_file)\n",
    "    \n",
    "    with open(csv_file,'r') as i:\n",
    "        # Skip the header row\n",
    "        next(i)\n",
    "        \n",
    "        # copy the table\n",
    "        cur.copy_from(i,table_na,sep=',',null='')\n",
    "    "
   ]
  },
  {
   "cell_type": "code",
   "execution_count": 32,
   "id": "59c587e0",
   "metadata": {},
   "outputs": [
    {
     "name": "stdout",
     "output_type": "stream",
     "text": [
      "Connection established\n",
      "Cursor opened for processing csv  age_grp.csv\n",
      "Cursor opened for processing csv  person.csv\n",
      "Cursor opened for processing csv  loc_info.csv\n",
      "Cursor opened for processing csv  temper_info.csv\n",
      "Cursor opened for processing csv  dass_info.csv\n"
     ]
    }
   ],
   "source": [
    "conn = psycopg2.connect(user = \"postgres\", password = password, database = \"dass\")\n",
    "print(\"Connection established\")\n",
    "\n",
    "load_table_func(conn,'age_grp.csv','age_grp')\n",
    "load_table_func(conn,'person.csv','person_info')\n",
    "load_table_func(conn,'loc_info.csv','location_info')\n",
    "load_table_func(conn,'temper_info.csv','temper_info')\n",
    "load_table_func(conn,'dass_info.csv','dass_info')\n",
    "conn.commit()\n",
    "conn.close()"
   ]
  },
  {
   "cell_type": "code",
   "execution_count": null,
   "id": "54fc7db8",
   "metadata": {},
   "outputs": [],
   "source": []
  }
 ],
 "metadata": {
  "kernelspec": {
   "display_name": "Python 3 (ipykernel)",
   "language": "python",
   "name": "python3"
  },
  "language_info": {
   "codemirror_mode": {
    "name": "ipython",
    "version": 3
   },
   "file_extension": ".py",
   "mimetype": "text/x-python",
   "name": "python",
   "nbconvert_exporter": "python",
   "pygments_lexer": "ipython3",
   "version": "3.9.7"
  }
 },
 "nbformat": 4,
 "nbformat_minor": 5
}
