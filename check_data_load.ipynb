{
 "cells": [
  {
   "cell_type": "markdown",
   "id": "93be8e25",
   "metadata": {},
   "source": [
    "## Do some simple queries to check the load of the tables"
   ]
  },
  {
   "cell_type": "code",
   "execution_count": 1,
   "id": "9ac16359",
   "metadata": {},
   "outputs": [],
   "source": [
    "import psycopg2\n",
    "from passwords import password\n",
    "import pandas as pd"
   ]
  },
  {
   "cell_type": "code",
   "execution_count": 2,
   "id": "fa66eab7",
   "metadata": {},
   "outputs": [
    {
     "data": {
      "text/html": [
       "<div>\n",
       "<style scoped>\n",
       "    .dataframe tbody tr th:only-of-type {\n",
       "        vertical-align: middle;\n",
       "    }\n",
       "\n",
       "    .dataframe tbody tr th {\n",
       "        vertical-align: top;\n",
       "    }\n",
       "\n",
       "    .dataframe thead th {\n",
       "        text-align: right;\n",
       "    }\n",
       "</style>\n",
       "<table border=\"1\" class=\"dataframe\">\n",
       "  <thead>\n",
       "    <tr style=\"text-align: right;\">\n",
       "      <th></th>\n",
       "      <th>gender_count</th>\n",
       "    </tr>\n",
       "  </thead>\n",
       "  <tbody>\n",
       "    <tr>\n",
       "      <th>0</th>\n",
       "      <td>3</td>\n",
       "    </tr>\n",
       "  </tbody>\n",
       "</table>\n",
       "</div>"
      ],
      "text/plain": [
       "   gender_count\n",
       "0             3"
      ]
     },
     "execution_count": 2,
     "metadata": {},
     "output_type": "execute_result"
    }
   ],
   "source": [
    "with psycopg2.connect(user = \"postgres\", password = password, database = \"dass\") as conn:\n",
    "    sec_qry = \"\"\"SELECT COUNT (DISTINCT gender) as gender_count \n",
    "            FROM person_info as p\n",
    "            ORDER BY gender_count DESC\"\"\"\n",
    "    sec_res = pd.read_sql_query(sec_qry,conn)\n",
    "\n",
    "sec_res.head()"
   ]
  },
  {
   "cell_type": "code",
   "execution_count": 3,
   "id": "a2862ae0",
   "metadata": {},
   "outputs": [
    {
     "data": {
      "text/html": [
       "<div>\n",
       "<style scoped>\n",
       "    .dataframe tbody tr th:only-of-type {\n",
       "        vertical-align: middle;\n",
       "    }\n",
       "\n",
       "    .dataframe tbody tr th {\n",
       "        vertical-align: top;\n",
       "    }\n",
       "\n",
       "    .dataframe thead th {\n",
       "        text-align: right;\n",
       "    }\n",
       "</style>\n",
       "<table border=\"1\" class=\"dataframe\">\n",
       "  <thead>\n",
       "    <tr style=\"text-align: right;\">\n",
       "      <th></th>\n",
       "      <th>major_count</th>\n",
       "    </tr>\n",
       "  </thead>\n",
       "  <tbody>\n",
       "    <tr>\n",
       "      <th>0</th>\n",
       "      <td>68</td>\n",
       "    </tr>\n",
       "  </tbody>\n",
       "</table>\n",
       "</div>"
      ],
      "text/plain": [
       "   major_count\n",
       "0           68"
      ]
     },
     "execution_count": 3,
     "metadata": {},
     "output_type": "execute_result"
    }
   ],
   "source": [
    "with psycopg2.connect(user = \"postgres\", password = password, database = \"dass\") as conn:\n",
    "    sec_qry = \"\"\"SELECT COUNT (DISTINCT major) as major_count \n",
    "            FROM educ_info as p\n",
    "            ORDER BY major_count DESC\"\"\"\n",
    "    sec_res = pd.read_sql_query(sec_qry,conn)\n",
    "\n",
    "sec_res.head()"
   ]
  },
  {
   "cell_type": "code",
   "execution_count": 8,
   "id": "2a8fd62a",
   "metadata": {},
   "outputs": [
    {
     "data": {
      "text/html": [
       "<div>\n",
       "<style scoped>\n",
       "    .dataframe tbody tr th:only-of-type {\n",
       "        vertical-align: middle;\n",
       "    }\n",
       "\n",
       "    .dataframe tbody tr th {\n",
       "        vertical-align: top;\n",
       "    }\n",
       "\n",
       "    .dataframe thead th {\n",
       "        text-align: right;\n",
       "    }\n",
       "</style>\n",
       "<table border=\"1\" class=\"dataframe\">\n",
       "  <thead>\n",
       "    <tr style=\"text-align: right;\">\n",
       "      <th></th>\n",
       "      <th>gender_count</th>\n",
       "      <th>major</th>\n",
       "      <th>gender</th>\n",
       "    </tr>\n",
       "  </thead>\n",
       "  <tbody>\n",
       "    <tr>\n",
       "      <th>0</th>\n",
       "      <td>1825</td>\n",
       "      <td>I.T.</td>\n",
       "      <td>2</td>\n",
       "    </tr>\n",
       "    <tr>\n",
       "      <th>1</th>\n",
       "      <td>774</td>\n",
       "      <td>I.T.</td>\n",
       "      <td>1</td>\n",
       "    </tr>\n",
       "    <tr>\n",
       "      <th>2</th>\n",
       "      <td>25</td>\n",
       "      <td>I.T.</td>\n",
       "      <td>3</td>\n",
       "    </tr>\n",
       "  </tbody>\n",
       "</table>\n",
       "</div>"
      ],
      "text/plain": [
       "   gender_count                                     major  gender\n",
       "0          1825  I.T.                                           2\n",
       "1           774  I.T.                                           1\n",
       "2            25  I.T.                                           3"
      ]
     },
     "execution_count": 8,
     "metadata": {},
     "output_type": "execute_result"
    }
   ],
   "source": [
    "with psycopg2.connect(user = \"postgres\", password = password, database = \"dass\") as conn:\n",
    "    sec_qry = \"\"\"SELECT COUNT(gender) as gender_count, e.major, p.gender  \n",
    "            FROM person_info as p\n",
    "            INNER JOIN educ_info as e\n",
    "            ON p.person_id = e.person_id\n",
    "            WHERE e.major = 'I.T.'\n",
    "            GROUP BY e.major, p.gender\n",
    "            ORDER BY gender_count DESC\"\"\"\n",
    "    sec_res = pd.read_sql_query(sec_qry,conn)\n",
    "\n",
    "sec_res.head()\n"
   ]
  },
  {
   "cell_type": "code",
   "execution_count": null,
   "id": "da4a99fe",
   "metadata": {},
   "outputs": [],
   "source": []
  }
 ],
 "metadata": {
  "kernelspec": {
   "display_name": "Python 3 (ipykernel)",
   "language": "python",
   "name": "python3"
  },
  "language_info": {
   "codemirror_mode": {
    "name": "ipython",
    "version": 3
   },
   "file_extension": ".py",
   "mimetype": "text/x-python",
   "name": "python",
   "nbconvert_exporter": "python",
   "pygments_lexer": "ipython3",
   "version": "3.9.7"
  }
 },
 "nbformat": 4,
 "nbformat_minor": 5
}
